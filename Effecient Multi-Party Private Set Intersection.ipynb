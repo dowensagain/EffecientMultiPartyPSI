{
 "cells": [
  {
   "cell_type": "markdown",
   "metadata": {},
   "source": [
    "# Efficient Multi-Party Private Set Intersection\n",
    "\n",
    "### By Malia Kency and John Owens"
   ]
  },
  {
   "cell_type": "code",
   "execution_count": null,
   "metadata": {},
   "outputs": [],
   "source": [
    "%load_ext autoreload\n",
    "%autoreload 2"
   ]
  },
  {
   "cell_type": "markdown",
   "metadata": {},
   "source": [
    "First, load imports"
   ]
  },
  {
   "cell_type": "code",
   "execution_count": 7,
   "metadata": {},
   "outputs": [],
   "source": [
    "import protocol\n",
    "import helpers\n",
    "import hashes as h\n",
    "import bloom_filter as bf"
   ]
  },
  {
   "cell_type": "markdown",
   "metadata": {},
   "source": [
    "Set constant protocol parameters:\n",
    "\n",
    "   * $NumPlayers$ = Total number of players $P_i$\n",
    "   * $PlayerInputSize$ = Size of the player's input sets\n",
    "   * $N_{BF}$ = Length of the Bloom Filter\n",
    "   * $k$ = Number of hash functions to use\n",
    "   * $\\kappa = SecParam$ = Security paremeter. 40 in the paper's example\n",
    "   * $N_{Maxones}$ = Maximum number of ones a player is allowed after cut-and-choose\n",
    "   * $p$ = percentage of total messages to be used for cut-and-choose\n",
    "   * $a$ = sampling weight of 1s vs. 0s for every $P_i$\n",
    "\n",
    "Then calculate the rest:\n",
    "   * $N_{OT}$ = Total number of Random Oblivious Transfers\n",
    "   * $m_h^1$ = The number of 1's a player chooses\n",
    "   * $\\gamma = gamma$ = Verifies the correct relationship between $p, \\kappa, m_h^1$\n",
    "   * $\\gamma^* = gammaStar$ = Verifies the correct relationship between $p, \\kappa, N_{OT}$\n",
    "   * $\\varphi$\n",
    "   * $\\pi$\n",
    "   * $\\epsilon$\n",
    "   * $\\lambda$\n",
    "\n",
    "   "
   ]
  },
  {
   "cell_type": "code",
   "execution_count": null,
   "metadata": {},
   "outputs": [],
   "source": [
    "NumPlayers = 3 \n",
    "PlayerInputSize = 5\n",
    "Nbf = 10\n",
    "SecParam = 40\n",
    "Nmaxones = 10\n",
    "p = 0.25\n",
    "a = 0.3\n",
    "\n",
    "# Initialize the protocol with the parameters above\n",
    "Protocol = protocol.init(NumPlayers, Nmaxones, PlayerInputSize, p, a, SecParam, Nbf)"
   ]
  },
  {
   "cell_type": "code",
   "execution_count": null,
   "metadata": {},
   "outputs": [],
   "source": []
  }
 ],
 "metadata": {
  "kernelspec": {
   "display_name": "Python 3",
   "language": "python",
   "name": "python3"
  },
  "language_info": {
   "file_extension": ".py",
   "mimetype": "text/x-python",
   "name": "python",
   "version": "3.7.6-final"
  }
 },
 "nbformat": 4,
 "nbformat_minor": 4
}