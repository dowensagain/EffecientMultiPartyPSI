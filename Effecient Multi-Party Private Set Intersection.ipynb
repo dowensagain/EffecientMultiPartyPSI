{
 "cells": [
  {
   "cell_type": "code",
   "execution_count": 16,
   "metadata": {},
   "outputs": [
    {
     "output_type": "stream",
     "name": "stdout",
     "text": "The autoreload extension is already loaded. To reload it, use:\n  %reload_ext autoreload\n"
    }
   ],
   "source": [
    "%load_ext autoreload\n",
    "%autoreload 2"
   ]
  },
  {
   "cell_type": "markdown",
   "metadata": {},
   "source": [
    "# Efficient Multi-Party Private Set Intersection\n",
    "\n",
    "### By Malia Kency and John Owens"
   ]
  },
  {
   "cell_type": "markdown",
   "metadata": {},
   "source": [
    "First, load imports"
   ]
  },
  {
   "cell_type": "code",
   "execution_count": 17,
   "metadata": {},
   "outputs": [],
   "source": [
    "import protocol\n",
    "import helpers\n",
    "import hashes as h\n",
    "import bloom_filter as bf"
   ]
  },
  {
   "cell_type": "markdown",
   "metadata": {},
   "source": [
    "Set constant protocol parameters:\n",
    "\n",
    "   * $NumPlayers$      = Total number of players $P_i$\n",
    "   * $PlayerInputSize$ = Size of the player's input sets\n",
    "   * $N_{BF}$          = Length of the Bloom Filter\n",
    "   * $k$               = Number of hash functions to use\n",
    "   * $\\kappa           = SecParam$ = Security paremater. 40 in the paper's example\n",
    "   * $N_{Maxones}$     = Maximum number of ones a player is allowed after cut-and-choose\n",
    "   * $p$               = percentage of total messages to be used for cut-and-choose\n",
    "   * $a$               = sampling weight of 1s vs. 0s for every $P_i$\n",
    "\n",
    "Then calculate the rest:\n",
    "   * $N_{OT}$ = Total number of Random Oblivious Transfers\n",
    "   * $m_h^1$ = The number of 1's a player chooses\n",
    "   * $\\gamma = gamma$ = Verifies the correct relationship between $p, \\kappa, m_h^1$\n",
    "   * $\\gamma^* = gammaStar$ = Verifies the correct relationship between $p, \\kappa, N_{OT}$\n",
    "   * $\\varphi$\n",
    "   * $\\pi$\n",
    "   * $\\epsilon$\n",
    "   * $\\lambda$\n",
    "   "
   ]
  },
  {
   "cell_type": "code",
   "execution_count": 18,
   "metadata": {},
   "outputs": [
    {
     "output_type": "stream",
     "name": "stdout",
     "text": "k = 2\nNot = 67\n\nSimulating players joining protocol. Total: 3\nPlayer 0 created\nPlayer 1 created\nPlayer 2 created\n\nCreating Bloom Filter simulation. BF length: 10\n"
    }
   ],
   "source": [
    "NumPlayers      = 3 \n",
    "PlayerInputSize = 5\n",
    "Nbf             = 10\n",
    "SecParam        = 40\n",
    "Nmaxones        = 10\n",
    "bitLength       = 128\n",
    "p = 0.25\n",
    "a = 0.3\n",
    "\n",
    "# Initialize the protocol with the parameters above\n",
    "Protocol = protocol.new(NumPlayers, Nmaxones, PlayerInputSize, p, a, SecParam, bitLength, Nbf)"
   ]
  },
  {
   "cell_type": "code",
   "execution_count": 19,
   "metadata": {},
   "outputs": [
    {
     "output_type": "stream",
     "name": "stdout",
     "text": "\nSimulating Random OT Stage. Performing 67 transfers in total:\n                                                   P0  \\\n0   (P1, Bit: 0, b'?\\xfc,\\xa2fWo\\x97K\\xfc9\\xa2\\x8b...   \n1   (P1, Bit: 0, b'\\xfb\\xca\\xba1\\xad\\x1d?\\xeb\\x10\\...   \n2   (P1, Bit: 0, b'\\x92i\\x1aZ\\xdb\\xa9\\x17Q\\x15\\xe3...   \n3   (P1, Bit: 0, b'a\\x91|\\x9c\\xbeC\\x0e\\x15\\x8eCD\\x...   \n4   (P1, Bit: 0, b'\\xe1\\x0c\\xb6\\xdf~\\xb8\\xae%\\xbb\\...   \n..                                                ...   \n62  (P1, Bit: 0, b'W\\x9e\\xb0\\x91.A\\xd5r\\xdf\\xc3\\x8...   \n63  (P1, Bit: 0, b'\\xd3!\\x1b\\xa8\\xc8d\\x8f,\\xad)In\\...   \n64  (P1, Bit: 0, b'\\xbe\\x1c@~Iz$\\xd9\\xbf\\xc7\\xdd\\x...   \n65  (P1, Bit: 0, b'\\xe7\\xed\\xa1~\\x16\\xb8_;I_6\\xb5\\...   \n66  (P1, Bit: 0, b'\\xa1E<\\xf4\\xed\\xfd\\x92Z\\xc1\\xcf...   \n\n                                                   P0  \\\n0   (P1, Bit: 1, b'&5\\x0fE\\xa2\\xa2\\t{\\x00a\\xfa \\xe...   \n1   (P1, Bit: 1, b\"\\xdf\\x10\\xd4\\xa8'\\xf3\\xd7v\\x13\\...   \n2   (P1, Bit: 1, b'\\x1a\\x9b8\\x0byL/\\x15\\xf2#-\\xe7\\...   \n3   (P1, Bit: 1, b'\\xa5\\xf9C\\xd7\\xfd\\x86\\xb2\\xe8\\\\...   \n4   (P1, Bit: 1, b'\"2+R\\x14\\xa1*\\xa0P\\xe7\\xa6H\\x11...   \n..                                                ...   \n62  (P1, Bit: 1, b\"\\xbb[\\xf5\\xcf\\xe3\\x06\\xcf\\x03\\x...   \n63  (P1, Bit: 1, b'\\x17c0h\\x1f\\x974\\xe7_\\xd0\\x8a!i...   \n64  (P1, Bit: 1, b'\\x1b\\x86\\x02s\\x0bC6\\x98\\x9f\\xf6...   \n65  (P1, Bit: 1, b'\\xd06\\x1b\\xc0M\\xd4\\x9a\\x9bU4\\x1...   \n66  (P1, Bit: 1, b'\\x13-\\x19\\xc2\\x1e\\xca\\xf4\\xe7\\x...   \n\n                                                   P0  \\\n0   (P2, Bit: 0, b'#\\x98p\\x92\\xcc\\x8b\\xa2\\xc1\\x904...   \n1   (P2, Bit: 0, b'5\\xcaV\\xf3[KIw\\x9e\\xa3\\xd1\\xfbM...   \n2   (P2, Bit: 0, b'\\xf3-J\\xc3z\\xe5\\\\\\xae\\xf4\\x1c\\x...   \n3   (P2, Bit: 0, b'\\xee\\x03D)J\\xc0\\x96\\x9f]\\xea\\x0...   \n4   (P2, Bit: 0, b'\\x8f\\n\\xb5p\\x1d\\xc7\\xaa\\xd1%\\n\\...   \n..                                                ...   \n62  (P2, Bit: 0, b'5\\x98\\xd4n\\xd5k\\x03\\xab\\x19+\\x0...   \n63  (P2, Bit: 0, b'\\xbfQEfBIY\\xa5\\x1e;\\x13\\xfe\\xca...   \n64  (P2, Bit: 0, b'\\x01Z\\xa3\\xb1\\xe7Y\\x1f\\xa0\\xff9...   \n65  (P2, Bit: 0, b'\\xca\\xfe\\xd0\\xe0\\xfbaO\\xaa\\x1e<...   \n66  (P2, Bit: 0, b'\\x1f\\xccq\\xc4\\x01\\xb5v\\x05\\xa3\\...   \n\n                                                   P0  \\\n0   (P2, Bit: 1, b'\\x0f\\x00;\\x8e#\\x90\\xd5\\x06-G2\\x...   \n1   (P2, Bit: 1, b'\\xa0k\\xe6\\xbd_t\\x8c\\x01G\\xe3 \\x...   \n2   (P2, Bit: 1, b'@\\n\\x83\\x8d\\xc8k\\xba\\xc6/\\xea|\\...   \n3   (P2, Bit: 1, b'a\\xa5\"\\x18\\xe7Mq\\x03\\xb1 \\x864\\...   \n4   (P2, Bit: 1, b'\\x08n&Q+g\\x08}\\xef\\xad\\xc0\\x8c%...   \n..                                                ...   \n62  (P2, Bit: 1, b'F\\xaf\\x96T@\\xcd\\xbc\\xd2c\\xd7\\xa...   \n63  (P2, Bit: 1, b'\\xcc\\x10\\x91?;\\xd3\\xc2V\\x8d\"\\xf...   \n64  (P2, Bit: 1, b'\\xb2\\xe3\\xdb\\xda/\\x17\\xa3Q\\x1c4...   \n65  (P2, Bit: 1, b'\\x97\\x96 \\xc5;@p\\xf1B\\x9c\\xfeGH...   \n66  (P2, Bit: 1, b'\\x00t\\x8a\\x90\\xaeYi\\x1c[qWH@4\\x...   \n\n                                                   P1  \\\n0   (P1, Bit: 0, b'?\\xfc,\\xa2fWo\\x97K\\xfc9\\xa2\\x8b...   \n1   (P1, Bit: 0, b'\\xfb\\xca\\xba1\\xad\\x1d?\\xeb\\x10\\...   \n2   (P1, Bit: 1, b'\\x1a\\x9b8\\x0byL/\\x15\\xf2#-\\xe7\\...   \n3   (P1, Bit: 0, b'a\\x91|\\x9c\\xbeC\\x0e\\x15\\x8eCD\\x...   \n4   (P1, Bit: 1, b'\"2+R\\x14\\xa1*\\xa0P\\xe7\\xa6H\\x11...   \n..                                                ...   \n62  (P1, Bit: 0, b'W\\x9e\\xb0\\x91.A\\xd5r\\xdf\\xc3\\x8...   \n63  (P1, Bit: 0, b'\\xd3!\\x1b\\xa8\\xc8d\\x8f,\\xad)In\\...   \n64  (P1, Bit: 1, b'\\x1b\\x86\\x02s\\x0bC6\\x98\\x9f\\xf6...   \n65  (P1, Bit: 0, b'\\xe7\\xed\\xa1~\\x16\\xb8_;I_6\\xb5\\...   \n66  (P1, Bit: 0, b'\\xa1E<\\xf4\\xed\\xfd\\x92Z\\xc1\\xcf...   \n\n                                                   P2  \n0   (P2, Bit: 1, b'\\x0f\\x00;\\x8e#\\x90\\xd5\\x06-G2\\x...  \n1   (P2, Bit: 0, b'5\\xcaV\\xf3[KIw\\x9e\\xa3\\xd1\\xfbM...  \n2   (P2, Bit: 1, b'@\\n\\x83\\x8d\\xc8k\\xba\\xc6/\\xea|\\...  \n3   (P2, Bit: 1, b'a\\xa5\"\\x18\\xe7Mq\\x03\\xb1 \\x864\\...  \n4   (P2, Bit: 0, b'\\x8f\\n\\xb5p\\x1d\\xc7\\xaa\\xd1%\\n\\...  \n..                                                ...  \n62  (P2, Bit: 0, b'5\\x98\\xd4n\\xd5k\\x03\\xab\\x19+\\x0...  \n63  (P2, Bit: 1, b'\\xcc\\x10\\x91?;\\xd3\\xc2V\\x8d\"\\xf...  \n64  (P2, Bit: 0, b'\\x01Z\\xa3\\xb1\\xe7Y\\x1f\\xa0\\xff9...  \n65  (P2, Bit: 0, b'\\xca\\xfe\\xd0\\xe0\\xfbaO\\xaa\\x1e<...  \n66  (P2, Bit: 1, b'\\x00t\\x8a\\x90\\xaeYi\\x1c[qWH@4\\x...  \n\n[67 rows x 6 columns]\n"
    }
   ],
   "source": [
    "# Perform Random Oblivious Transfer\n",
    "Protocol.perform_RandomOT()"
   ]
  },
  {
   "cell_type": "code",
   "execution_count": 20,
   "metadata": {},
   "outputs": [
    {
     "output_type": "stream",
     "name": "stdout",
     "text": "\nCounting each player's \"1s\":\nP0 has 134 ones. a * Not: 20.099999999999998\nP1 has 25 ones. a * Not: 20.099999999999998\nP2 has 19 ones. a * Not: 20.099999999999998\n"
    }
   ],
   "source": [
    "# Get all players one\n",
    "Protocol.get_AllPlayersOnes()"
   ]
  },
  {
   "cell_type": "code",
   "execution_count": 21,
   "metadata": {},
   "outputs": [],
   "source": [
    "# Perform cut-and-choose\n",
    "Protocol.performCutandChoose()"
   ]
  },
  {
   "cell_type": "code",
   "execution_count": 22,
   "metadata": {},
   "outputs": [
    {
     "output_type": "stream",
     "name": "stdout",
     "text": "\nCreating injective function simulation for every Pi:\nPlayer 1 injective function valid\nPlayer 2 injective function valid\n"
    }
   ],
   "source": [
    "# Create an Injective Function\n",
    "Protocol.create_InjectiveFunctions()"
   ]
  },
  {
   "cell_type": "code",
   "execution_count": 23,
   "metadata": {},
   "outputs": [],
   "source": [
    "# Create Randomized GBF\n",
    "Protocol.players[0].create_RandomizedGBF(Protocol.hashes)\n",
    "\n",
    "# Calculate XOR sums\n",
    "Protocol.players[0].create_XOR_sums([ Protocol.players[1], Protocol.players[2] ])\n",
    "\n",
    "# Create the summary values to share\n",
    "vals0 = Protocol.players[0].create_SummaryValsToShare( Protocol.hashes )"
   ]
  },
  {
   "cell_type": "code",
   "execution_count": 24,
   "metadata": {},
   "outputs": [],
   "source": [
    "# Repeat for Player 1\n",
    "Protocol.players[1].create_RandomizedGBF(Protocol.hashes)\n",
    "Protocol.players[1].create_XOR_sums([ Protocol.players[1], Protocol.players[2] ])\n",
    "vals1 = Protocol.players[1].create_SummaryValsToShare( Protocol.hashes )\n",
    ""
   ]
  },
  {
   "cell_type": "code",
   "execution_count": 25,
   "metadata": {},
   "outputs": [
    {
     "output_type": "stream",
     "name": "stdout",
     "text": "Intersection at b'B\\xd1\\xfa\\xe3U\\xd7\\x92\\x1c\\x00\\x0fS\\t\\xb4\\x10N_\\x9c\\xaa3\\x81\\xfe\\xf9?v\\xa4\\xbfN\\x1d\\x83\\xf5\\xf2v'\n"
    }
   ],
   "source": [
    "# Find the intersection\n",
    "for i in range(0, len(vals0)):\n",
    "    for j in range(0, len(vals1)):\n",
    "        if vals0[i] == vals1[j]:\n",
    "            print(\"Intersection at {}\".format(vals0[i]))\n",
    ""
   ]
  },
  {
   "cell_type": "code",
   "execution_count": null,
   "metadata": {},
   "outputs": [],
   "source": []
  }
 ],
 "metadata": {
  "kernelspec": {
   "display_name": "Python 3",
   "language": "python",
   "name": "python3"
  },
  "language_info": {
   "codemirror_mode": {
    "name": "ipython",
    "version": 3
   },
   "file_extension": ".py",
   "mimetype": "text/x-python",
   "name": "python",
   "nbconvert_exporter": "python",
   "pygments_lexer": "ipython3",
   "version": "3.7.6-final"
  }
 },
 "nbformat": 4,
 "nbformat_minor": 4
}