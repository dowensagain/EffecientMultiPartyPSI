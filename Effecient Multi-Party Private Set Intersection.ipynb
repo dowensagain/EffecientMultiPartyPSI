{
 "cells": [
  {
   "cell_type": "code",
   "execution_count": 1,
   "metadata": {},
   "outputs": [],
   "source": [
    "%load_ext autoreload\n",
    "%autoreload 2"
   ]
  },
  {
   "cell_type": "markdown",
   "metadata": {},
   "source": [
    "# Efficient Multi-Party Private Set Intersection\n",
    "\n",
    "### By Malia Kency and John Owens"
   ]
  },
  {
   "cell_type": "markdown",
   "metadata": {},
   "source": [
    "First, load imports"
   ]
  },
  {
   "cell_type": "code",
   "execution_count": 2,
   "metadata": {},
   "outputs": [],
   "source": [
    "import math\n",
    "import protocol as P\n",
    "import bloom_filter as BF\n",
    "import pandas as PD"
   ]
  },
  {
   "cell_type": "markdown",
   "metadata": {},
   "source": [
    "Set constant protocol parameters:\n",
    "\n",
    "   * $NumPlayers$ = Total number of players $P_i$\n",
    "   * $PlayerInputSize$ = Size of the player's input sets\n",
    "   * $N_{BF}$ = Length of the Bloom Filter\n",
    "   * $k$ = Number of hash functions to use\n",
    "   * $\\kappa = SecParam$ = Security paremeter. 40 in the paper's example\n",
    "   * $N_{Maxones}$ = Maximum number of ones a player is allowed after cut-and-choose\n",
    "   * $p$ = percentage of total messages to be used for cut-and-choose\n",
    "   * $a$ = sampling weight of 1s vs. 0s for every $P_i$\n",
    "\n",
    "Then calculate the rest:\n",
    "   * $N_{OT}$ = Total number of Random Oblivious Transfers\n",
    "   * $m_h^1$ = The number of 1's a player chooses\n",
    "   * $\\gamma = gamma$ = Verifies the correct relationship between $p, \\kappa, m_h^1$\n",
    "   * $\\gamma^* = gammaStar$ = Verifies the correct relationship between $p, \\kappa, N_{OT}$\n",
    "   * $\\varphi$\n",
    "   * $\\pi$\n",
    "   * $\\epsilon$\n",
    "   * $\\lambda$\n",
    "\n",
    "   "
   ]
  },
  {
   "cell_type": "code",
   "execution_count": 3,
   "metadata": {},
   "outputs": [
    {
     "output_type": "stream",
     "name": "stdout",
     "text": "Player 0 created\nPlayer 1 created\nPlayer 2 created\n"
    }
   ],
   "source": [
    "NumPlayers = 3 \n",
    "PlayerInputSize = 5\n",
    "Nbf = 10\n",
    "k = BF.GetNumHashFuncs(Nbf, PlayerInputSize)\n",
    "SecParam = 20\n",
    "Nmaxones = 10\n",
    "p = 0.25\n",
    "a = 0.3\n",
    "\n",
    "# Initialize the protocol with the parameters above\n",
    "Protocol = P.Protocol(Nmaxones, PlayerInputSize, k, p, a, SecParam, Nbf)\n",
    "\n",
    "# Add the players to the protocol\n",
    "Protocol.AddPlayers(NumPlayers)"
   ]
  },
  {
   "cell_type": "markdown",
   "metadata": {},
   "source": [
    "After parameters are set, we can simluate the first major step of the protocol: Random OT\n",
    "\n",
    "Note: The number of Oblivious Transfers that occur is determined by $N_{OT}$, which is the result of several calculations in `security_parameters.py`"
   ]
  },
  {
   "cell_type": "code",
   "execution_count": 16,
   "metadata": {},
   "outputs": [
    {
     "output_type": "stream",
     "name": "stdout",
     "text": "Performing 67 Random Oblivious Transfers...\n                                     P0's 1s  \\\n1     79385521461839476913602713971809239000   \n2     95843188183947512284759992019121661321   \n3    321417030532038087619867779859679378427   \n4    247564699884232018954608966577406111889   \n5    181769869763132698203040545802833368257   \n...                                      ...   \n134  314471991917618508102007260714213214091   \n\n                                     P0's 0s  \\\n1     93871778688780312720321773628345112618   \n2    311171856673962675149118537734215301921   \n3    277152525336698952202404909683310143623   \n4    182989987425593319525406455842791314601   \n5    151992231802778606202965544118060859882   \n...                                      ...   \n134  263281102740236273316967273015506758021   \n\n                                     P1's 1s  \\\n1                                          0   \n2                                          0   \n3                                          0   \n4    105857214284937267107590569761015191108   \n5                                          0   \n...                                      ...   \n134                                        0   \n\n                                     P1's 0s  \\\n1     93871778688780312720321773628345112618   \n2    277152525336698952202404909683310143623   \n3    151992231802778606202965544118060859882   \n4                                          0   \n5     14386332849334937764320506152460168722   \n...                                      ...   \n134   97516014712213698714986265059339834900   \n\n                                     P2's 1s  \\\n1     95843188183947512284759992019121661321   \n2    247564699884232018954608966577406111889   \n3    332139954531511616811596577590488845100   \n4    194957644096820911808805605385994700283   \n5                                          0   \n...                                      ...   \n134  314471991917618508102007260714213214091   \n\n                                     P2's 0s  \n1                                          0  \n2                                          0  \n3                                          0  \n4                                          0  \n5    127099053448501326125022974663204302367  \n...                                      ...  \n134                                        0  \n"
    }
   ],
   "source": [
    "Protocol.Perform_RandomOT(Protocol.Params.a, Protocol.Params.Not)\n",
    "Protocol.Report_PlayerMessages()"
   ]
  },
  {
   "cell_type": "code",
   "execution_count": null,
   "metadata": {},
   "outputs": [],
   "source": []
  }
 ],
 "metadata": {
  "kernelspec": {
   "display_name": "Python 3.7.0 64-bit",
   "language": "python",
   "name": "python37064bit4af627fbaf584dadbcff64083d96b3c8"
  },
  "language_info": {
   "file_extension": ".py",
   "mimetype": "text/x-python",
   "name": "python",
   "version": "3.7.0-final"
  }
 },
 "nbformat": 4,
 "nbformat_minor": 4
}