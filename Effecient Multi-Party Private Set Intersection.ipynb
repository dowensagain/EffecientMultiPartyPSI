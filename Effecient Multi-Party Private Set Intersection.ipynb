{
 "cells": [
  {
   "cell_type": "code",
   "execution_count": 26,
   "metadata": {},
   "outputs": [
    {
     "output_type": "stream",
     "name": "stdout",
     "text": "The autoreload extension is already loaded. To reload it, use:\n  %reload_ext autoreload\n"
    }
   ],
   "source": [
    "%load_ext autoreload\n",
    "%autoreload 2"
   ]
  },
  {
   "cell_type": "markdown",
   "metadata": {},
   "source": [
    "# Efficient Multi-Party Private Set Intersection\n",
    "\n",
    "### By Malia Kency and John Owens"
   ]
  },
  {
   "cell_type": "markdown",
   "metadata": {},
   "source": [
    "First, load imports"
   ]
  },
  {
   "cell_type": "code",
   "execution_count": 27,
   "metadata": {},
   "outputs": [],
   "source": [
    "import protocol\n",
    "import helpers\n",
    "import hashes as h\n",
    "import bloom_filter as bf"
   ]
  },
  {
   "cell_type": "markdown",
   "metadata": {},
   "source": [
    "Set constant protocol parameters:\n",
    "\n",
    "   * $NumPlayers$      = Total number of players $P_i$\n",
    "   * $PlayerInputSize$ = Size of the player's input sets\n",
    "   * $N_{BF}$          = Length of the Bloom Filter\n",
    "   * $k$               = Number of hash functions to use\n",
    "   * $\\kappa           = SecParam$ = Security paremater. 40 in the paper's example\n",
    "   * $N_{Maxones}$     = Maximum number of ones a player is allowed after cut-and-choose\n",
    "   * $p$               = percentage of total messages to be used for cut-and-choose\n",
    "   * $a$               = sampling weight of 1s vs. 0s for every $P_i$\n",
    "\n",
    "Then calculate the rest:\n",
    "   * $N_{OT}$ = Total number of Random Oblivious Transfers\n",
    "   * $m_h^1$ = The number of 1's a player chooses\n",
    "   * $\\gamma = gamma$ = Verifies the correct relationship between $p, \\kappa, m_h^1$\n",
    "   * $\\gamma^* = gammaStar$ = Verifies the correct relationship between $p, \\kappa, N_{OT}$\n",
    "   * $\\varphi$\n",
    "   * $\\pi$\n",
    "   * $\\epsilon$\n",
    "   * $\\lambda$\n",
    "   "
   ]
  },
  {
   "cell_type": "code",
   "execution_count": 39,
   "metadata": {},
   "outputs": [],
   "source": [
    "## Parameters:\n",
    "NumPlayers = 3 \n",
    "PlayerInputSize = 20 # 10\n",
    "SecParam = 40\n",
    "bitLength = 128\n",
    "\n",
    "# These parameters are meant for illustration and fast execution\n",
    "# they are not considered secure or optimal\n",
    "Nmaxones = 80 # 40\n",
    "p = 0.3 # 0.25 # Fraction of messages to use for Cut and Choose\n",
    "a = 0.27 # 0.25 # Probability a 1 is chosen by a player"
   ]
  },
  {
   "cell_type": "code",
   "execution_count": 40,
   "metadata": {},
   "outputs": [
    {
     "output_type": "stream",
     "name": "stdout",
     "text": "k = 5\nNot = 667\ngamma = 0\ngammaStar = 1\n\nSimulating players joining protocol. Total: 3\nPlayer 0 created\nPlayer 1 created\nPlayer 2 created\n"
    }
   ],
   "source": [
    "# Initialize the protocol by calculating parameters,\n",
    "# creating the players, and generating random inputs\n",
    "# Note: at least 1 shared value is guaranteed\n",
    "Protocol = protocol.new(NumPlayers, Nmaxones, PlayerInputSize, SecParam, bitLength, p, a)\n",
    ""
   ]
  },
  {
   "cell_type": "code",
   "execution_count": 41,
   "metadata": {},
   "outputs": [
    {
     "output_type": "stream",
     "name": "stdout",
     "text": "\nPerforming Random Oblivious Transfer simulation. 667 transfers in total:\n                                                    P0  \\\n0    (P1, Bit: 0, b't{\\xc4$\\x00\\xca\\xee|\\tt\\x12cCJ\\...   \n1    (P1, Bit: 0, b'\\x03\\xa5\\x16\\x01O_>\\xf0\\xcd\\xe9...   \n2    (P1, Bit: 0, b'\\x1c\\x1aq\\xc8\\x81&\\xce\\xeb\\xaf&...   \n3    (P1, Bit: 0, b'g$y\\xfd\\xe0W\\xe2\\x1a\\x0b\\xe4qv=...   \n4    (P1, Bit: 0, b'b%K\\x19\\x11\\x9c\\xf7\\xeeM0\\xe0E\\...   \n..                                                 ...   \n662  (P1, Bit: 0, b'\\x8f\\xa0\\x02<x\\x8cB\\xf15\\x13m\\x...   \n663  (P1, Bit: 0, b'\\xdc\\\\\\xeb\\x91\\x01\\xaf\\x0e\\x9e\\...   \n664  (P1, Bit: 0, b'3\\xf3\\xc5\\x01\\xc9\\x18\\x1f8\\x04\\...   \n665  (P1, Bit: 0, b'=\\xeeY\\xaf\\xd2#\\xdfC\\xf7\\x9bC\\x...   \n666  (P1, Bit: 0, b'\\xa6\\xdc\\xf0\\xec\\x13\\xbdN|:\\x8b...   \n\n                                                    P0  \\\n0    (P1, Bit: 1, b'\\xdd\\x0ea\\x1fO\\x9b\\xcd\\xb3\\xff\\...   \n1    (P1, Bit: 1, b'\\xef\\xfdB\\xa6\\x8b\\xecQXV;\\x0bg\\...   \n2    (P1, Bit: 1, b'\\xa0\\x96\\xef\\x9a\\xde-\\xe0\\xea\\x...   \n3    (P1, Bit: 1, b'>ks\\x10\\x16\\xe89\\xfa \\xfe-\\x9c\\...   \n4    (P1, Bit: 1, b'L\\xf5\\xb0M=\\xf5\\x02\\xa7\\xb6\\xf2...   \n..                                                 ...   \n662  (P1, Bit: 1, b\"%\\x97\\xfdE\\xcdq\\xa3\\x8c'iBNY|\\x...   \n663  (P1, Bit: 1, b'\\xe0\\xfd|\\xaf\\xed\\x9b\\xce\\x02s\\...   \n664      (P1, Bit: 1, b'JlZ3f\\xc7~H2\\xa7Hx\\x0c\\x8c2;')   \n665  (P1, Bit: 1, b'\\xe9kLm\\xe9\\xbbP\\r\\xbe\\xc7\\x03\\...   \n666  (P1, Bit: 1, b'\\xd9\\xd2\\xcc\\xddW\\xcf#\\xb8#\\x01...   \n\n                                                    P0  \\\n0    (P2, Bit: 0, b\"\\xed\\xb8\\xbd\\xfd:\\x85C\\xe8z\\xaf...   \n1    (P2, Bit: 0, b'\\xbb\\xf3\\xc3;\\xaf)\\x7f\\x14\\xc0%...   \n2    (P2, Bit: 0, b'2\\x1bE\\xf6\\x96J\\xd6\\x01\\xc8(\\xd...   \n3    (P2, Bit: 0, b'9I\\xf4\\xa8N\\xcb\\xa3l\\xa1\\xb3%\\x...   \n4    (P2, Bit: 0, b'\\x18+/m\\x06W1\\xe4!\\xf3\\xf0_\\x8a...   \n..                                                 ...   \n662  (P2, Bit: 0, b'\\x86\\x15\\r\\x8bZ\\xe6\\xde\\x9e\\xc6...   \n663  (P2, Bit: 0, b'\\x88\\xc5\\xae\\xef\\x941=\\xd0\\xc7b...   \n664  (P2, Bit: 0, b'.&E\\xe7)\\xe0\\xfb\\x87LyX\\xb6\\xe8...   \n665  (P2, Bit: 0, b'\\xf8q-R\\x91\\xaeS?w\\xce\\na\\xcf;\\...   \n666  (P2, Bit: 0, b'\\x1dx\\xe0\\xe0\\xcc>b\\x00,\\x18a\\x...   \n\n                                                    P0  \\\n0    (P2, Bit: 1, b'r\\xcco\\xda?\\x05g\\xefc\\xe6\\x8f_\\...   \n1    (P2, Bit: 1, b'M\\xedn\\xf6\\xb6\\x02\\xae\\xb3U\\xa4...   \n2    (P2, Bit: 1, b'\\xef\\xb1#\\xf6\\x030\\xe4]\\xd7B\\x1...   \n3    (P2, Bit: 1, b']\\xc2\\x0b&\\xd4\\xe6S\\xa8_\\xb6K\\x...   \n4    (P2, Bit: 1, b'\\xd5\\xc4\\x7f\\xe1\\xa7A\\xe4\\xba\\x...   \n..                                                 ...   \n662  (P2, Bit: 1, b'\\x94\\xbaf\\xfb\\xef\\t$dx\\xb0N\\xd7...   \n663  (P2, Bit: 1, b'\\xec+r\\x1c\\xa1\\x14\\x97\\x1f\\xb7\\...   \n664  (P2, Bit: 1, b'9\\xd9\\xa5\\xb9gsq\\xee>\\xb3/~R7\\x...   \n665  (P2, Bit: 1, b'\\xe7\\xc8[t\\x85r\\xe2)\\xab\\xc9\\xd...   \n666  (P2, Bit: 1, b'\\x13\\xd7,5\\xc0\\xc3\\xf9{\\xcd[\\x0...   \n\n                                                    P1  \\\n0    (P1, Bit: 1, b'\\xdd\\x0ea\\x1fO\\x9b\\xcd\\xb3\\xff\\...   \n1    (P1, Bit: 0, b'\\x03\\xa5\\x16\\x01O_>\\xf0\\xcd\\xe9...   \n2    (P1, Bit: 0, b'\\x1c\\x1aq\\xc8\\x81&\\xce\\xeb\\xaf&...   \n3    (P1, Bit: 0, b'g$y\\xfd\\xe0W\\xe2\\x1a\\x0b\\xe4qv=...   \n4    (P1, Bit: 1, b'L\\xf5\\xb0M=\\xf5\\x02\\xa7\\xb6\\xf2...   \n..                                                 ...   \n662  (P1, Bit: 0, b'\\x8f\\xa0\\x02<x\\x8cB\\xf15\\x13m\\x...   \n663  (P1, Bit: 0, b'\\xdc\\\\\\xeb\\x91\\x01\\xaf\\x0e\\x9e\\...   \n664      (P1, Bit: 1, b'JlZ3f\\xc7~H2\\xa7Hx\\x0c\\x8c2;')   \n665  (P1, Bit: 0, b'=\\xeeY\\xaf\\xd2#\\xdfC\\xf7\\x9bC\\x...   \n666  (P1, Bit: 0, b'\\xa6\\xdc\\xf0\\xec\\x13\\xbdN|:\\x8b...   \n\n                                                    P2  \n0    (P2, Bit: 0, b\"\\xed\\xb8\\xbd\\xfd:\\x85C\\xe8z\\xaf...  \n1    (P2, Bit: 1, b'M\\xedn\\xf6\\xb6\\x02\\xae\\xb3U\\xa4...  \n2    (P2, Bit: 0, b'2\\x1bE\\xf6\\x96J\\xd6\\x01\\xc8(\\xd...  \n3    (P2, Bit: 0, b'9I\\xf4\\xa8N\\xcb\\xa3l\\xa1\\xb3%\\x...  \n4    (P2, Bit: 0, b'\\x18+/m\\x06W1\\xe4!\\xf3\\xf0_\\x8a...  \n..                                                 ...  \n662  (P2, Bit: 0, b'\\x86\\x15\\r\\x8bZ\\xe6\\xde\\x9e\\xc6...  \n663  (P2, Bit: 0, b'\\x88\\xc5\\xae\\xef\\x941=\\xd0\\xc7b...  \n664  (P2, Bit: 1, b'9\\xd9\\xa5\\xb9gsq\\xee>\\xb3/~R7\\x...  \n665  (P2, Bit: 0, b'\\xf8q-R\\x91\\xaeS?w\\xce\\na\\xcf;\\...  \n666  (P2, Bit: 0, b'\\x1dx\\xe0\\xe0\\xcc>b\\x00,\\x18a\\x...  \n\n[667 rows x 6 columns]\n\nCounting each player's \"1s\":\nP0 has 1334 ones. a * Not: 180.09\nP1 has 181 ones. a * Not: 180.09\nP2 has 190 ones. a * Not: 180.09\n"
    }
   ],
   "source": [
    "# Perform the random oblivious transfer simulation for P0...Pt\n",
    "Protocol.perform_RandomOT()\n",
    "Protocol.print_PlayerROTTable()\n",
    "Protocol.print_PlayerMessageStats()"
   ]
  },
  {
   "cell_type": "code",
   "execution_count": 42,
   "metadata": {},
   "outputs": [
    {
     "output_type": "stream",
     "name": "stdout",
     "text": "\nPerforming Cut and Choose simulation. Size of c: 200. Size of j: 467\n"
    }
   ],
   "source": [
    "# Perform cut-and-choose simulation for P0...Pt\n",
    "Protocol.perform_CutandChoose()"
   ]
  },
  {
   "cell_type": "code",
   "execution_count": 43,
   "metadata": {},
   "outputs": [
    {
     "output_type": "stream",
     "name": "stdout",
     "text": "\nCreating Bloom Filters. BF length: 124\n"
    }
   ],
   "source": [
    "# Create bloom filters for P1...Pt\n",
    "Protocol.create_BloomFilters()"
   ]
  },
  {
   "cell_type": "code",
   "execution_count": 44,
   "metadata": {},
   "outputs": [
    {
     "output_type": "stream",
     "name": "stdout",
     "text": "\nCreating injective functions for every Pi:\nPlayer 1 injective function valid\nPlayer 2 injective function valid\n"
    }
   ],
   "source": [
    "# Create P1...Pt's injective functions\n",
    "Protocol.create_InjectiveFunctions()"
   ]
  },
  {
   "cell_type": "code",
   "execution_count": 51,
   "metadata": {},
   "outputs": [
    {
     "output_type": "stream",
     "name": "stdout",
     "text": "\nCreating randomized GBF for every Pi:\n"
    }
   ],
   "source": [
    "# Instantiate P0's and P1's rGBF objects\n",
    "Protocol.create_RandomizedGBFs()"
   ]
  },
  {
   "cell_type": "code",
   "execution_count": 47,
   "metadata": {},
   "outputs": [],
   "source": [
    "# P0 performs XOR summation on its own j_messages[injective_func] where bit=1\n",
    "# P1 performs XOR summation on all P1...Pt's j_messages[injective_func] where bit = P1...Pt's choice\n",
    "Protocol.perform_XORsummation()"
   ]
  },
  {
   "cell_type": "code",
   "execution_count": 48,
   "metadata": {},
   "outputs": [],
   "source": [
    "# P0 calculates summary values for all elements of its input set\n",
    "# P1 calculates summary values for all elements of its input set (Every P1...Pt input values)\n",
    "Protocol.perform_SummaryValues()"
   ]
  },
  {
   "cell_type": "code",
   "execution_count": 49,
   "metadata": {},
   "outputs": [
    {
     "output_type": "stream",
     "name": "stdout",
     "text": "\n\nPlayer 0's input set: [437, 526, 513, 1985, 337, 675, 167, 876, 719, 957, 701, 246, 934, 811, 836, 123, 950, 762, 336, 485]\nPlayer 1's input set: [592, 299, 248, 141, 300, 109, 576, 537, 676, 267, 571, 575, 1985, 882, 665, 939, 159, 224, 604, 25]\nPlayer 2's input set: [662, 421, 798, 4, 933, 240, 462, 740, 82, 119, 36, 1985, 89, 751, 473, 506, 328, 438, 631, 862]\n\n\nPlayer 0's summary values: [7591003..., 4082754..., 7093200..., 7592668..., 1005307..., 9483742..., 1061967..., 4197387..., 3132539..., 7688586..., 8633950..., 1638326..., 7611480..., 2344013..., 1752146..., 6215280..., 1148473..., 1033882..., 5233896..., 7682777..., ]\nPlayer 1's summary values: [5561615..., 9681150..., 4196136..., 8724530..., 5568165..., 6696660..., 5262687..., 1155814..., 7134999..., 3094897..., 7308618..., 1224593..., 7592668..., 1825128..., 7680404..., 7838787..., 9783627..., 3523488..., 6032161..., 3477550..., ]\n\nIntersections found at these values: [1985]\n"
    }
   ],
   "source": [
    "# P1 receives P0s summary values, compares them to its own\n",
    "# Intersections are recorded and output\n",
    "Protocol.perform_Output()"
   ]
  },
  {
   "cell_type": "code",
   "execution_count": null,
   "metadata": {},
   "outputs": [],
   "source": []
  }
 ],
 "metadata": {
  "kernelspec": {
   "display_name": "Python 3",
   "language": "python",
   "name": "python3"
  },
  "language_info": {
   "codemirror_mode": {
    "name": "ipython",
    "version": 3
   },
   "file_extension": ".py",
   "mimetype": "text/x-python",
   "name": "python",
   "nbconvert_exporter": "python",
   "pygments_lexer": "ipython3",
   "version": "3.7.6-final"
  }
 },
 "nbformat": 4,
 "nbformat_minor": 4
}