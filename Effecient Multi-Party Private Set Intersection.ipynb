{
 "cells": [
  {
   "cell_type": "markdown",
   "metadata": {},
   "source": [
    "# Effecient Multi-Party Private Set Intersection\n",
    "\n",
    "### By Malia Kency and John Owens"
   ]
  },
  {
   "cell_type": "markdown",
   "metadata": {},
   "source": [
    "First, load imports"
   ]
  },
  {
   "cell_type": "markdown",
   "metadata": {},
   "source": [
    "import  players\n",
    "import  commitment_scheme as CM\n",
    "import  bloom_filter as BF\n",
    "import  security_params as SP\n",
    "import  math"
   ]
  },
  {
   "cell_type": "markdown",
   "metadata": {},
   "source": [
    "Next, set constant protocol parameters then calculate the others"
   ]
  },
  {
   "cell_type": "code",
   "execution_count": null,
   "metadata": {},
   "outputs": [],
   "source": [
    "NumPlayers = 3 # Total number of players Pi\n",
    "PlayerInputSize = 3 # Size of the player's input sets\n",
    "Nbf = 3 # Length of the Bloom Filter\n",
    "k = BF.GetNumHashFuncs(Nbf, PlayerInputSize) # Numbe rof hash functions to use\n",
    "SecParam = 20 # Security paremeter. 40 in the paper's example\n",
    "Nmaxones = 1 # Maximum number of ones allowed after cut-and-choose\n",
    "p = 0.25 # percentage of total 1s to be used for cut-and-choose\n",
    "a = 0.5 # sampling weight of 1s vs. 0s for all Pi\n",
    "\n",
    "# Generate the other parameters: Not, m1h, check values gamma and gammaStar\n",
    "Protocol_Params = SP.Security_Params(Nmaxones, PlayerInputSize, k, p, a, SecParam, Nbf)"
   ]
  },
  {
   "cell_type": "code",
   "execution_count": 7,
   "metadata": {},
   "outputs": [
    {
     "name": "stdout",
     "output_type": "stream",
     "text": [
      "Player 0 created\n",
      "Player 1 created\n",
      "Player 2 created\n",
      "Performing random OT 1 of 8\n",
      "Performing random OT 2 of 8\n",
      "Performing random OT 3 of 8\n",
      "Performing random OT 4 of 8\n",
      "Performing random OT 5 of 8\n",
      "Performing random OT 6 of 8\n",
      "Performing random OT 7 of 8\n",
      "Performing random OT 8 of 8\n",
      "Player 0 has 16 ones. Should be: 16\n",
      "Player 1 has 5 ones. Ideal: 4.0\n",
      "Player 2 has 2 ones. Ideal: 4.0\n",
      "'a' defined as 0.5\n"
     ]
    }
   ],
   "source": [
    "players = players.Players(NumPlayers)\n",
    "# scheme = CM.CommitmentScheme()\n",
    "# players.broadcast(\"test\")\n",
    "players.perform_random_ot(Protocol_Params.a, Protocol_Params.Not)\n",
    "print(\"Player 0 has \" + str( players.players[0].getNumberOfOnes() ) + \" ones. Should be: \" + str( Protocol_Params.Not * (NumPlayers - 1) ) )\n",
    "print(\"Player 1 has \" + str( players.players[1].getNumberOfOnes() ) + \" ones. Ideal: \" + str( Protocol_Params.Not * Protocol_Params.a ))\n",
    "print(\"Player 2 has \" + str( players.players[2].getNumberOfOnes() ) + \" ones. Ideal: \" + str( Protocol_Params.Not * Protocol_Params.a ))\n",
    "print(\"\\'a\\' defined as \" + str( Protocol_Params.a ));"
   ]
  },
  {
   "cell_type": "code",
   "execution_count": null,
   "metadata": {},
   "outputs": [],
   "source": []
  }
 ],
 "metadata": {
  "kernelspec": {
   "display_name": "Python 3",
   "language": "python",
   "name": "python3"
  },
  "language_info": {
   "codemirror_mode": {
    "name": "ipython",
    "version": 3
   },
   "file_extension": ".py",
   "mimetype": "text/x-python",
   "name": "python",
   "nbconvert_exporter": "python",
   "pygments_lexer": "ipython3",
   "version": "3.7.0"
  }
 },
 "nbformat": 4,
 "nbformat_minor": 4
}
