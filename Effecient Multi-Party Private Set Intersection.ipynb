{
 "cells": [
  {
   "cell_type": "code",
   "execution_count": null,
   "metadata": {},
   "outputs": [],
   "source": [
    "%load_ext autoreload\n",
    "%autoreload 2"
   ]
  },
  {
   "cell_type": "markdown",
   "metadata": {},
   "source": [
    "# Efficient Multi-Party Private Set Intersection\n",
    "\n",
    "### By Malia Kency and John Owens"
   ],
   "execution_count": null,
   "outputs": []
  },
  {
   "cell_type": "markdown",
   "metadata": {},
   "source": [
    "First, load imports"
   ],
   "execution_count": null,
   "outputs": []
  },
  {
   "cell_type": "code",
   "execution_count": null,
   "metadata": {},
   "outputs": [],
   "source": [
    "import protocol\n",
    "import helpers\n",
    "import hashes as h\n",
    "import bloom_filter as bf\n",
    "import ipywidgets as widgets"
   ]
  },
  {
   "cell_type": "markdown",
   "metadata": {},
   "source": [
    "Set constant protocol parameters:\n",
    "\n",
    "   * $NumPlayers$      = Total number of players $P_i$\n",
    "   * $PlayerInputSize$ = Size of the player's input sets\n",
    "   * $N_{BF}$          = Length of the Bloom Filter\n",
    "   * $k$               = Number of hash functions to use\n",
    "   * $\\kappa           = SecParam$ = Security paremater. 40 in the paper's example\n",
    "   * $N_{Maxones}$     = Maximum number of ones a player is allowed after cut-and-choose\n",
    "   * $p$               = percentage of total messages to be used for cut-and-choose\n",
    "   * $a$               = sampling weight of 1s vs. 0s for every $P_i$\n",
    "\n",
    "Then calculate the rest:\n",
    "   * $N_{OT}$ = Total number of Random Oblivious Transfers\n",
    "   * $m_h^1$ = The number of 1's a player chooses\n",
    "   * $\\gamma = gamma$ = Verifies the correct relationship between $p, \\kappa, m_h^1$\n",
    "   * $\\gamma^* = gammaStar$ = Verifies the correct relationship between $p, \\kappa, N_{OT}$\n",
    "   * $\\varphi$\n",
    "   * $\\pi$\n",
    "   * $\\epsilon$\n",
    "   * $\\lambda$\n",
    "   "
   ],
   "execution_count": null,
   "outputs": []
  },
  {
   "cell_type": "code",
   "execution_count": 21,
   "metadata": {},
   "outputs": [],
   "source": [
    "# Parameters:\n",
    "NumPlayers = 3 \n",
    "PlayerInputSize = 20 # 10\n",
    "SecParam = 40\n",
    "bitLength = 128\n",
    "\n",
    "# These parameters are meant for illustration and fast execution\n",
    "# they are not considered secure or optimal\n",
    "Nmaxones = 80 # 40\n",
    "p = 0.3 # 0.25 # Fraction of messages to use for Cut and Choose\n",
    "a = 0.27 # 0.25 # Probability a 1 is chosen by a player"
   ]
  },
  {
   "cell_type": "code",
   "execution_count": null,
   "metadata": {},
   "outputs": [],
   "source": [
    "# Initialize the protocol by calculating parameters,\n",
    "# creating the players, and generating random inputs\n",
    "# Note: at least 1 shared value is guaranteed\n",
    "Protocol = protocol.new(NumPlayers, Nmaxones, PlayerInputSize, SecParam, bitLength, p, a)\n",
    ""
   ]
  },
  {
   "cell_type": "code",
   "execution_count": null,
   "metadata": {},
   "outputs": [],
   "source": [
    "# Perform the random oblivious transfer simulation for P0...Pt\n",
    "Protocol.perform_RandomOT()\n",
    "Protocol.print_PlayerROTTable()\n",
    "Protocol.print_PlayerMessageStats()"
   ]
  },
  {
   "cell_type": "code",
   "execution_count": null,
   "metadata": {},
   "outputs": [],
   "source": [
    "# Perform cut-and-choose simulation for P0...Pt\n",
    "Protocol.perform_CutandChoose()"
   ]
  },
  {
   "cell_type": "code",
   "execution_count": null,
   "metadata": {},
   "outputs": [],
   "source": [
    "# Create bloom filters for P1...Pt\n",
    "Protocol.create_BloomFilters()"
   ]
  },
  {
   "cell_type": "code",
   "execution_count": null,
   "metadata": {},
   "outputs": [],
   "source": [
    "# Create P1...Pt's injective functions\n",
    "Protocol.create_InjectiveFunctions()"
   ]
  },
  {
   "cell_type": "code",
   "execution_count": null,
   "metadata": {},
   "outputs": [],
   "source": [
    "# Instantiate P0's and P1's rGBF objects\n",
    "Protocol.create_RandomizedGBFs()"
   ]
  },
  {
   "cell_type": "code",
   "execution_count": null,
   "metadata": {},
   "outputs": [],
   "source": [
    "# P0 performs XOR summation on its own j_messages[injective_func] where bit=1\n",
    "# P1 performs XOR summation on all P1...Pt's j_messages[injective_func] where bit = P1...Pt's choice\n",
    "Protocol.perform_XORsummation()"
   ]
  },
  {
   "cell_type": "code",
   "execution_count": null,
   "metadata": {},
   "outputs": [],
   "source": [
    "# P0 calculates summary values for all elements of its input set\n",
    "# P1 calculates summary values for all elements of its input set (Every P1...Pt input values)\n",
    "Protocol.perform_SummaryValues()"
   ]
  },
  {
   "cell_type": "code",
   "execution_count": null,
   "metadata": {},
   "outputs": [],
   "source": [
    "# P1 receives P0s summary values, compares them to its own\n",
    "# Intersections are recorded and output\n",
    "Protocol.perform_Output()"
   ]
  },
  {
   "cell_type": "code",
   "execution_count": null,
   "metadata": {},
   "outputs": [],
   "source": []
  }
 ],
 "metadata": {
  "kernelspec": {
   "display_name": "Python 3",
   "language": "python",
   "name": "python3"
  },
  "language_info": {
   "codemirror_mode": {
    "name": "ipython",
    "version": 3
   },
   "file_extension": ".py",
   "mimetype": "text/x-python",
   "name": "python",
   "nbconvert_exporter": "python",
   "pygments_lexer": "ipython3",
   "version": "3.7.6-final"
  }
 },
 "nbformat": 4,
 "nbformat_minor": 4
}