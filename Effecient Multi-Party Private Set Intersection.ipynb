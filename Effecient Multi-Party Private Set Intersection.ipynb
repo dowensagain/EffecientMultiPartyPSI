{
 "cells": [
  {
   "cell_type": "code",
   "execution_count": 6,
   "metadata": {},
   "outputs": [
    {
     "ename": "SyntaxError",
     "evalue": "invalid syntax (<string>, line 1)",
     "output_type": "error",
     "traceback": [
      "\u001b[0;31m---------------------------------------------------------------------------\u001b[0m\n\u001b[0;31mSyntaxError\u001b[0m                               Traceback (most recent call last)",
      "File \u001b[0;34mC:\\Users\\kyoji\\miniconda3\\envs\\jupyterlab-debugger\\lib\\ast.py\u001b[0m, in \u001b[0;32mparse\u001b[0m:\nLine \u001b[0;34m35\u001b[0m:    \u001b[34mreturn\u001b[39;49;00m \u001b[36mcompile\u001b[39;49;00m(source, filename, mode, PyCF_ONLY_AST)\n",
      "\u001b[0;31mSyntaxError\u001b[0m: invalid syntax (<string>, line 1)\n\u001b[0;31m---------------------------------------------------------------------------\u001b[0m"
     ]
    }
   ],
   "source": [
    "%load_ext autoreload\n",
    "%autoreload 2"
   ]
  },
  {
   "cell_type": "markdown",
   "metadata": {},
   "source": [
    "# Effecient Multi-Party Private Set Intersection\n",
    "\n",
    "### By Malia Kency and John Owens"
   ]
  },
  {
   "cell_type": "markdown",
   "metadata": {},
   "source": [
    "First, load imports"
   ]
  },
  {
   "cell_type": "code",
   "execution_count": 7,
   "metadata": {},
   "outputs": [],
   "source": [
    "import math\n",
    "import protocol as P\n",
    "import bloom_filter as BF"
   ]
  },
  {
   "cell_type": "markdown",
   "metadata": {},
   "source": [
    "Set constant protocol parameters:\n",
    "\n",
    "   * $NumPlayers$ = Total number of players $P_i$\n",
    "   * $PlayerInputSize$ = Size of the player's input sets\n",
    "   * $N_{BF}$ = Length of the Bloom Filter\n",
    "   * $k$ = Number of hash functions to use\n",
    "   * $\\kappa = SecParam$ = Security paremeter. 40 in the paper's example\n",
    "   * $N_{Maxones}$ = Maximum number of ones a player is allowed after cut-and-choose\n",
    "   * $p$ = percentage of total messages to be used for cut-and-choose\n",
    "   * $a$ = sampling weight of 1s vs. 0s for every $P_i$\n",
    "\n",
    "Then calculate the rest:\n",
    "   * $N_{OT}$ = Total number of Random Oblivious Transfers\n",
    "   * $m_h^1$ = The number of 1's a player chooses\n",
    "   * $\\gamma = gamma$ = Verifies the correct relationship between $p, \\kappa, m_h^1$\n",
    "   * $\\gamma^* = gammaStar$ = Verifies the correct relationship between $p, \\kappa, N_{OT}$"
   ]
  },
  {
   "cell_type": "code",
   "execution_count": 10,
   "metadata": {},
   "outputs": [
    {
     "name": "stdout",
     "output_type": "stream",
     "text": [
      "Player 0 created\n",
      "Player 1 created\n",
      "Player 2 created\n"
     ]
    }
   ],
   "source": [
    "NumPlayers = 3 \n",
    "PlayerInputSize = 5\n",
    "Nbf = 10\n",
    "k = BF.GetNumHashFuncs(Nbf, PlayerInputSize)\n",
    "SecParam = 20\n",
    "Nmaxones = 10\n",
    "p = 0.25\n",
    "a = 0.3\n",
    "\n",
    "# Initialize the protocol with the parameters above\n",
    "Protocol = P.Protocol(Nmaxones, PlayerInputSize, k, p, a, SecParam, Nbf)\n",
    "\n",
    "# Add the players to the protocol\n",
    "Protocol.AddPlayers(NumPlayers)"
   ]
  },
  {
   "cell_type": "markdown",
   "metadata": {},
   "source": [
    "After parameters are set, we can simluate the first major step of the protocol: Random OT\n",
    "\n",
    "Note: The number of Oblivious Transfers that occur is determined by $N_{OT}$, which is the result of several calculations in `security_parameters.py`"
   ]
  },
  {
   "cell_type": "code",
   "execution_count": 9,
   "metadata": {},
   "outputs": [
    {
     "name": "stdout",
     "output_type": "stream",
     "text": [
      "Performing 67 Random Oblivious Transfers...\n",
      "Player 0 has 134 ones. Should be: 134\n",
      "Player 1 has 28 ones. Ideal: 20.099999999999998\n",
      "Player 2 has 24 ones. Ideal: 20.099999999999998\n",
      "'a' defined as 0.3\n"
     ]
    }
   ],
   "source": [
    "Protocol.Perform_RandomOT(Protocol.Params.a, Protocol.Params.Not)\n",
    "print(\"Player 0 has \" + str(Protocol.players[0].getNumberOfOnes()) + \" ones. Should be: \" + str(Protocol.Params.Not * (NumPlayers - 1)))\n",
    "print(\"Player 1 has \" + str(Protocol.players[1].getNumberOfOnes()) + \" ones. Ideal: \" + str(Protocol.Params.Not * Protocol.Params.a))\n",
    "print(\"Player 2 has \" + str(Protocol.players[2].getNumberOfOnes()) + \" ones. Ideal: \" + str(Protocol.Params.Not * Protocol.Params.a))\n",
    "print(\"\\'a\\' defined as \" + str(Protocol.Params.a));"
   ]
  },
  {
   "cell_type": "code",
   "execution_count": null,
   "metadata": {},
   "outputs": [],
   "source": []
  }
 ],
 "metadata": {
  "kernelspec": {
   "display_name": "xpython",
   "language": "python",
   "name": "xpython"
  },
  "language_info": {
   "file_extension": ".py",
   "mimetype": "text/x-python",
   "name": "python",
   "version": "3.7.6"
  }
 },
 "nbformat": 4,
 "nbformat_minor": 4
}
