{
 "cells": [
  {
   "cell_type": "code",
   "execution_count": 38,
   "metadata": {},
   "outputs": [
    {
     "output_type": "stream",
     "name": "stdout",
     "text": "The autoreload extension is already loaded. To reload it, use:\n  %reload_ext autoreload\n"
    }
   ],
   "source": [
    "%load_ext autoreload\n",
    "%autoreload 2"
   ]
  },
  {
   "cell_type": "markdown",
   "metadata": {},
   "source": [
    "# Efficient Multi-Party Private Set Intersection\n",
    "\n",
    "### By Malia Kency and John Owens"
   ]
  },
  {
   "cell_type": "code",
   "execution_count": 39,
   "metadata": {},
   "outputs": [],
   "source": [
    "import protocol\n",
    "import helpers\n",
    "import hashes as h\n",
    "import bloom_filter as bf\n",
    "import garbled_bloom_filter as gbf"
   ]
  },
  {
   "cell_type": "code",
   "execution_count": 40,
   "metadata": {},
   "outputs": [],
   "source": [
    "# Parameters:\n",
    "NumPlayers = 3 \n",
    "PlayerInputSize = 20 # 10\n",
    "SecParam = 40\n",
    "bitLength = 128\n",
    "\n",
    "# These parameters are meant for illustration and fast execution\n",
    "# they are not considered secure or optimal\n",
    "Nmaxones = 80 # 40\n",
    "p = 0.3 # 0.25 # Fraction of messages to use for Cut and Choose\n",
    "a = 0.27 # 0.25 # Probability a 1 is chosen by a player\n",
    "disableChecks = False"
   ]
  },
  {
   "cell_type": "code",
   "execution_count": 41,
   "metadata": {},
   "outputs": [
    {
     "output_type": "stream",
     "name": "stdout",
     "text": "\nStarting protocol...\nk = 5\nNot = 667\ngamma = 0\ngammaStar = 1 \n\n\nSimulating players joining protocol. Total: 3\n\nStep finished\n\n"
    }
   ],
   "source": [
    "# Initialize the protocol by calculating parameters,\n",
    "# creating the players, and generating random inputs\n",
    "# Note: at least 1 shared value is guaranteed\n",
    "Protocol = protocol.new# Initialize the protocol by calculating parameters,\n",
    "# creating the players, and generating random inputs\n",
    "# Note: at least 1 shared value is guaranteed\n",
    "Protocol = protocol.new(NumPlayers, Nmaxones, PlayerInputSize, SecParam, bitLength, p, a, disableChecks)\n",
    "print(\"\\nStarting protocol...\")\n",
    "print(\"k = {}\".format(Protocol.params.k))\n",
    "print(\"Not = {}\".format(Protocol.params.Not))\n",
    "print(\"gamma = {}\".format(Protocol.params.gamma))\n",
    "print(\"gammaStar = {} \\n\".format(Protocol.params.gammaStar))\n",
    "print(\"\\nSimulating players joining protocol. Total: {}\".format(Protocol.params.NumPlayers))\n",
    "print(\"\\nStep finished\\n\")\n"
   ]
  },
  {
   "cell_type": "code",
   "execution_count": 42,
   "metadata": {},
   "outputs": [
    {
     "output_type": "stream",
     "name": "stdout",
     "text": "\nPerforming Random Oblivious Transfer simulation. 667 transfers in total:\n                                                    P0  \\\n0    (P1, Bit: 0, b'~\\x91\\x80\\xee\\xf7\\xcd.\\x0b\\xcfs...   \n1    (P1, Bit: 0, b'\\x1eQ\\ns\\n\\x05\\xa2+\\x81A\\x8e\\xf...   \n2    (P1, Bit: 0, b'4x\\xfd\\x04\\xf0\\xbd\\x1e=i\\x93]\\x...   \n3    (P1, Bit: 0, b'r\\x8d\\xb5n\\x1bk%Bs\\x0f\\xb2?\\xde...   \n4    (P1, Bit: 0, b'T\\xf9#s\\xf3\\x03\\xb1[S\\xdd\\xf7\\x...   \n..                                                 ...   \n662  (P1, Bit: 0, b'\\xea\\xa6h\\x88\\xbff\\xb724\\xca\\xe...   \n663   (P1, Bit: 0, b\"\\xa0i}:G')]\\xbc\\x8b}\\xdd\\xd9d,d\")   \n664  (P1, Bit: 0, b'\\xfb+\\xd9\\xf4\\xe8\\xa3\\xaa\\xea\\x...   \n665  (P1, Bit: 0, b'\\x1f-JD\\xcc\\x9e\\x98s?q[6\\t\\xa7\\...   \n666  (P1, Bit: 0, b'\\xc7|\\xc2\\x10\\x03\\x1f\\xcf\\t\\xef...   \n\n                                                    P0  \\\n0    (P1, Bit: 1, b'\\xe6~\\xb8\\x1d\\xf3e\\x07#\\xc5\\xac...   \n1    (P1, Bit: 1, b'NP^{\\x1c\\xc2\\x06\\xe8\\\\\\xc0^K\\xa...   \n2    (P1, Bit: 1, b'\\x1cma\\xfb\\xb7\\x8f\\xa9\\x8f\\x10\\...   \n3    (P1, Bit: 1, b'\\x94\\xe5fh\\xde\\x14\\xb2UtOx\\x10O...   \n4    (P1, Bit: 1, b'\\xd4\\xf6\\x88W\\x8c\\x03\\x04\\xbaR\\...   \n..                                                 ...   \n662  (P1, Bit: 1, b'\\xa7\\\\8\\x02]\\x80\\xd7\\x01C\\xaa\\n...   \n663  (P1, Bit: 1, b'\\x84\\xf7\\x8f\\xb79]E\\xc5d\\xb4\\xc...   \n664  (P1, Bit: 1, b'~\\x1c\\x06u8\\xcav?\\xf0\\x0b\\x1f\\x...   \n665  (P1, Bit: 1, b\"\\xe8\\xa7Y\\x9a\\xd4+\\x8di'\\xf1b\\x...   \n666  (P1, Bit: 1, b'$\\xa2\\x80\\xd3\\xd0\\xfd\\xde3\\xcf\\...   \n\n                                                    P0  \\\n0    (P2, Bit: 0, b'v\\xc4\\x8f\\xe1w\\xdb9\\x8c\\xe7\\xe7...   \n1    (P2, Bit: 0, b'I`Y\\x81\\xde\\x15\\t\\x7f\\xbb\\n\\x0e...   \n2    (P2, Bit: 0, b'\\x7fr\\xc5 \\x88a\\xf2EC\\xe6\\xdb\\x...   \n3    (P2, Bit: 0, b'\\xb5\\x98\\xcb\\x13p\\xbacGNMG\\x05\\...   \n4    (P2, Bit: 0, b'C\\x86\\x84\\xefF\\xf5\\xbeY\\xaa\\x84...   \n..                                                 ...   \n662  (P2, Bit: 0, b'*W\\x05uB\\xd1\\xb7\\x8d\\xec\\x9e\\xb...   \n663  (P2, Bit: 0, b'[\\x91z\\x8f\\xf8 \\xc0\\\\\\x9d\\x9e\\x...   \n664  (P2, Bit: 0, b'y!\\xd8X\\xc4\\xc9\\x07\\xce\\x85\\x1e...   \n665  (P2, Bit: 0, b'W{\\x82\\x00\\x87:T&\\x0eON\\x16\\xe0...   \n666  (P2, Bit: 0, b'\\x8c\\x04\\x1a\\xef\\x8c;$C\\\\O>\\xe6...   \n\n                                                    P0  \\\n0    (P2, Bit: 1, b'\\xe9&\\xcdbQ\\xc5\\xbaP\\xe7\\xectU\\...   \n1    (P2, Bit: 1, b'\\x9cs\\xac\\xcd\\xeaV\\x0c\\xb8\\xb3\\...   \n2    (P2, Bit: 1, b'o\\x89j\\xd3X\\x11\\xf1U\\xefR[\\xed\\...   \n3    (P2, Bit: 1, b'\\x9d\\x14\\x0cY\"\\x18E\\xff\\xb4\\xa2...   \n4    (P2, Bit: 1, b'\\xbb\\xed\\xca,\\xb3\\x05x\\xbd\\xb4\\...   \n..                                                 ...   \n662  (P2, Bit: 1, b'\\xd9\\xb6\\xdc\\xce\\x9d\\x01\\xdb>%R...   \n663  (P2, Bit: 1, b'~\\xa9GW*\\xcfE\\x08\\xf2\\xfch\\xa1\\...   \n664  (P2, Bit: 1, b'\\xbe\\xfa\\xd4\\xe4\\xf6\\x86\\x95!FZ...   \n665  (P2, Bit: 1, b'\\x13H\\xa7t\\xa4\\x19\\x8e\\xcf\\x89\\...   \n666  (P2, Bit: 1, b'#\\xc9\\xde\\x82\\x90\\xfb\\xbbDwg/\\x...   \n\n                                                    P1  \\\n0    (P1, Bit: 1, b'\\xe6~\\xb8\\x1d\\xf3e\\x07#\\xc5\\xac...   \n1    (P1, Bit: 0, b'\\x1eQ\\ns\\n\\x05\\xa2+\\x81A\\x8e\\xf...   \n2    (P1, Bit: 0, b'4x\\xfd\\x04\\xf0\\xbd\\x1e=i\\x93]\\x...   \n3    (P1, Bit: 1, b'\\x94\\xe5fh\\xde\\x14\\xb2UtOx\\x10O...   \n4    (P1, Bit: 0, b'T\\xf9#s\\xf3\\x03\\xb1[S\\xdd\\xf7\\x...   \n..                                                 ...   \n662  (P1, Bit: 0, b'\\xea\\xa6h\\x88\\xbff\\xb724\\xca\\xe...   \n663   (P1, Bit: 0, b\"\\xa0i}:G')]\\xbc\\x8b}\\xdd\\xd9d,d\")   \n664  (P1, Bit: 0, b'\\xfb+\\xd9\\xf4\\xe8\\xa3\\xaa\\xea\\x...   \n665  (P1, Bit: 0, b'\\x1f-JD\\xcc\\x9e\\x98s?q[6\\t\\xa7\\...   \n666  (P1, Bit: 0, b'\\xc7|\\xc2\\x10\\x03\\x1f\\xcf\\t\\xef...   \n\n                                                    P2  \n0    (P2, Bit: 0, b'v\\xc4\\x8f\\xe1w\\xdb9\\x8c\\xe7\\xe7...  \n1    (P2, Bit: 1, b'\\x9cs\\xac\\xcd\\xeaV\\x0c\\xb8\\xb3\\...  \n2    (P2, Bit: 0, b'\\x7fr\\xc5 \\x88a\\xf2EC\\xe6\\xdb\\x...  \n3    (P2, Bit: 0, b'\\xb5\\x98\\xcb\\x13p\\xbacGNMG\\x05\\...  \n4    (P2, Bit: 0, b'C\\x86\\x84\\xefF\\xf5\\xbeY\\xaa\\x84...  \n..                                                 ...  \n662  (P2, Bit: 0, b'*W\\x05uB\\xd1\\xb7\\x8d\\xec\\x9e\\xb...  \n663  (P2, Bit: 0, b'[\\x91z\\x8f\\xf8 \\xc0\\\\\\x9d\\x9e\\x...  \n664  (P2, Bit: 0, b'y!\\xd8X\\xc4\\xc9\\x07\\xce\\x85\\x1e...  \n665  (P2, Bit: 1, b'\\x13H\\xa7t\\xa4\\x19\\x8e\\xcf\\x89\\...  \n666  (P2, Bit: 0, b'\\x8c\\x04\\x1a\\xef\\x8c;$C\\\\O>\\xe6...  \n\n[667 rows x 6 columns]\n\nCounting each player's \"1s\":\n\nP0 has 1334 ones. a * Not: 180.09\nP1 has 182 ones. a * Not: 180.09\nP2 has 199 ones. a * Not: 180.09\n\nStep finished\n\n"
    }
   ],
   "source": [
    "# Perform the random oblivious transfer simulation for P0...Pt\n",
    "print(\"\\nPerforming Random Oblivious Transfer simulation. {} transfers in total:\".format(Protocol.params.Not))\n",
    "Protocol.perform_RandomOT()\n",
    "print(Protocol.print_PlayerROTTable())\n",
    "print(\"\\nCounting each player's \\\"1s\\\":\")\n",
    "print(Protocol.print_PlayerMessageStats())\n",
    "print(\"\\nStep finished\\n\")"
   ]
  },
  {
   "cell_type": "code",
   "execution_count": 43,
   "metadata": {},
   "outputs": [
    {
     "output_type": "stream",
     "name": "stdout",
     "text": "Performing Cut and Choose simulation. Size of c: 200. Size of j: 467\n\nStep finished\n\n"
    }
   ],
   "source": [
    "# Perform cut-and-choose simulation for P0...Pt\n",
    "print(\"Performing Cut and Choose simulation. Size of c: {}. Size of j: {}\".format(Protocol.params.C, Protocol.params.Not - Protocol.params.C))\n",
    "Protocol.perform_CutandChoose()\n",
    "print(\"\\nStep finished\\n\")"
   ]
  },
  {
   "cell_type": "code",
   "execution_count": 44,
   "metadata": {},
   "outputs": [
    {
     "output_type": "stream",
     "name": "stdout",
     "text": "Creating Bloom Filters. BF length: 124\n\nStep finished\n\n"
    }
   ],
   "source": [
    "# Create bloom filters for P1...Pt\n",
    "print(\"Creating Bloom Filters. BF length: {}\".format(Protocol.params.Nbf))\n",
    "Protocol.create_BloomFilters()\n",
    "print(\"\\nStep finished\\n\")"
   ]
  },
  {
   "cell_type": "code",
   "execution_count": 45,
   "metadata": {},
   "outputs": [
    {
     "output_type": "stream",
     "name": "stdout",
     "text": "Creating injective functions for every Pi:\n\nPlayer 1's Injective function: \n[0, 1, 7, 11, 13, 12, 16, 15, 22, 25, 28, 35, 41, 40, 43, 44, 42, 39, 45, 51, 50, 54, 55, 53, 52, 56, 49, 48, 59, 58, 64, 67, 70, 69, 74, 77, 76, 80, 81, 83, 82, 85, 86, 84, 94, 93, 98, 97, 101, 100, 105, 106, 109, 108, 107, 110, 104, 103, 111, 102, 115, 114, 113, 117, 116, 112, 99, 118, 96, 119, 95, 124, 123, 125, 122, 129, 133, 132, 138, 142, 148, 155, 157, 156, 154, 153, 163, 170, 181, 180, 179, 178, 182, 183, 184, 195, 197, 198, 200, 201, 204, 205, 210, 212, 213, 215, 214, 217, 220, 219, 218, 216, 211, 222, 225, 227, 226, 224, 229, 228, 234, 233, 235, 232]\nPlayer 2's Injective function: \n[1, 3, 6, 5, 4, 7, 8, 9, 2, 10, 13, 14, 15, 17, 19, 20, 21, 18, 24, 23, 22, 26, 27, 25, 16, 28, 12, 11, 0, 29, 31, 36, 35, 41, 40, 43, 42, 46, 45, 50, 49, 48, 57, 61, 63, 62, 60, 69, 75, 78, 79, 80, 77, 82, 81, 76, 74, 73, 72, 71, 86, 85, 91, 92, 90, 89, 96, 102, 101, 103, 106, 108, 111, 110, 112, 109, 117, 118, 116, 115, 122, 123, 124, 130, 131, 133, 132, 129, 136, 135, 142, 146, 145, 144, 147, 143, 149, 150, 151, 153, 155, 154, 159, 160, 163, 166, 165, 168, 167, 164, 162, 161, 158, 170, 171, 172, 173, 169, 157, 182, 181, 187, 196, 195]\n\nStep finished\n\n"
    }
   ],
   "source": [
    "# Create P1...Pt's injective functions\n",
    "print(\"Creating injective functions for every Pi:\")\n",
    "print(Protocol.create_InjectiveFunctions())\n",
    "print(\"\\nStep finished\\n\")"
   ]
  },
  {
   "cell_type": "code",
   "execution_count": 46,
   "metadata": {},
   "outputs": [
    {
     "output_type": "stream",
     "name": "stdout",
     "text": "\nCreating randomized GBF for every Pi\n\nStep finished\n\n"
    }
   ],
   "source": [
    "print(\"\\nCreating randomized GBF for every Pi\")\n",
    "# Instantiate P0's and P1's rGBF objects\n",
    "Protocol.create_RandomizedGBFs()\n",
    "print(\"\\nStep finished\\n\")"
   ]
  },
  {
   "cell_type": "code",
   "execution_count": 47,
   "metadata": {},
   "outputs": [
    {
     "output_type": "stream",
     "name": "stdout",
     "text": "\nCalculating final output\n"
    },
    {
     "output_type": "execute_result",
     "data": {
      "text/plain": "\"\\nPlayer 0's rGBF: \\n[1847433..., 2494997..., 1334272..., 2422886..., 1126939..., 2479696..., 1514417..., 1424916..., 6348615..., 1951345..., 2631557..., 2415829..., 3220077..., 2351186..., 1007580..., 1600113..., 1608730..., 1030888..., 2372094..., 3263955..., 3191387..., 2445688..., 2351227..., 5215569..., 1422204..., 1408748..., 1155873..., 2527532..., 3010375..., 3277143..., 2276437..., 2237521..., 6275521..., 6931029..., 3194732..., 3045665..., 1477049..., 3239078..., 2058872..., 2008207..., 2749483..., 1587140..., 2213568..., 3904030..., 1667278..., 2258750..., 2161060..., 2605097..., 1826070..., 1667207..., 1475094..., 1590496..., 1814544..., 4041917..., 2417677..., 4435241..., 3139310..., 8179795..., 1042821..., 1004428..., 1413856..., 2774555..., 1614796..., 2000611..., 2647178..., 3173149..., 1239307..., 1151535..., 2643312..., 1091713..., 8578685..., 2453462..., 3152902..., 8022919..., 3074097..., 2356073..., 3078949..., 2200140..., 2935922..., 2178081..., 7366090..., 1945761..., 8821672..., 2226675..., 3053461..., 1934910..., 8639293..., 3053233..., 2510667..., 3023706..., 1321552..., 1691649..., 1093956..., 1486309..., 1152974..., 3160192..., 4158881..., 3004360..., 1602809..., 1257076..., 2269886..., 2085706..., 4157429..., 1542105..., 1033905..., 1465781..., 4989351..., 1349437..., 6934992..., 1242795..., 2917259..., 2364375..., 5553873..., 2044803..., 2003554..., 1791043..., 2774905..., 3029231..., 1862785..., 2944001..., 1553549..., 8433008..., 1775012..., 2879856..., ]\\nPlayer 1's rGBF: \\n[1006381..., 3818593..., 1492016..., 2422886..., 1126939..., 2865396..., 7738653..., 3140798..., 6348615..., 1568188..., 2211240..., 1590631..., 1622669..., 1814282..., 1589624..., 1992880..., 1774720..., 2101422..., 6962168..., 3263955..., 2454317..., 1278729..., 1169462..., 1057142..., 5168722..., 3362246..., 1996571..., 1941909..., 3010375..., 2212986..., 2276437..., 2237521..., 1381439..., 2058014..., 2169141..., 3045665..., 2460911..., 3239078..., 3049213..., 2008207..., 3311391..., 2147475..., 2213568..., 1936724..., 1667278..., 1507604..., 4561153..., 5310321..., 1826070..., 1845826..., 1475094..., 1590496..., 1530027..., 3349237..., 3051385..., 3125947..., 8002601..., 2279454..., 2734953..., 2277955..., 1413856..., 1708848..., 2864212..., 2000611..., 4640813..., 2093769..., 3053959..., 1151535..., 1322067..., 1091713..., 3049124..., 2453462..., 1065931..., 6916762..., 2444668..., 7528443..., 3078949..., 3212517..., 2693534..., 1095184..., 7366090..., 1945761..., 8821672..., 1333814..., 1235149..., 3217222..., 1317650..., 7624871..., 2510667..., 2789037..., 3227651..., 1339291..., 1821165..., 2440574..., 1152974..., 2093029..., 4158881..., 3004360..., 1602809..., 1257076..., 2269886..., 2222910..., 4157429..., 1542105..., 1033905..., 1465781..., 1542822..., 1349437..., 2021444..., 2738031..., 2157485..., 1042022..., 4254191..., 2044803..., 2003554..., 1791043..., 2134990..., 8500871..., 1707141..., 2809731..., 2587723..., 2258162..., 1775012..., 1188746..., ]\""
     },
     "metadata": {},
     "execution_count": 47
    }
   ],
   "source": [
    "print(\"\\nCalculating final output\")\n",
    "# P0 performs XOR summation on its own j_messages[injective_func] where bit=1\n",
    "# P1 performs XOR summation on all P1...Pt's j_messages[injective_func] where bit = P1...Pt's choice\n",
    "Protocol.perform_XORsummation()"
   ]
  },
  {
   "cell_type": "code",
   "execution_count": 48,
   "metadata": {},
   "outputs": [],
   "source": [
    "# P0 calculates summary values for all elements of its input set\n",
    "# P1 calculates summary values for all elements of its input set (Every P1...Pt input values)\n",
    "Protocol.perform_SummaryValues()"
   ]
  },
  {
   "cell_type": "code",
   "execution_count": 49,
   "metadata": {},
   "outputs": [
    {
     "output_type": "stream",
     "name": "stdout",
     "text": "\nPlayer 0's input set: [497, 818, 259, 55, 131, 874, 374, 54, 15, 622, 716, 669, 12, 790, 202, 5066, 294, 333, 263, 532]\nPlayer 1's input set: [21, 553, 394, 640, 679, 333, 122, 550, 898, 5066, 868, 74, 756, 579, 659, 928, 395, 791, 219, 475]\nPlayer 2's input set: [836, 433, 729, 339, 460, 4, 762, 5066, 669, 200, 954, 40, 395, 369, 111, 296, 937, 395, 771, 290]\n\nPlayer 0's summary values: [1892024..., 1114615..., 8734097..., 6992542..., 6572361..., 6869525..., 2035475..., 1244889..., 1929895..., 1093641..., 8709341..., 6958332..., 1336137..., 8855219..., 1098397..., 5489238..., 5012685..., 1015860..., 4378321..., 1342789..., ]\nPlayer 1's summary values: [4056260..., 1027061..., 2022488..., 1857149..., 4284976..., 2160088..., 1118971..., 1110198..., 2441617..., 5489238..., 3680608..., 6519658..., 1150656..., 3003939..., 4795781..., 4844133..., 2927114..., 2372511..., 4240871..., 3785144..., ]\n\nIntersections found at these values: [5066]\nGuaranteed intersection value was: 5066\n\n\nStep finished\n\n"
    }
   ],
   "source": [
    "# P1 receives P0s summary values, compares them to its own\n",
    "# Intersections are recorded and output\n",
    "Protocol.perform_Output()# P1 receives P0s summary values, compares them to its own\n",
    "# Intersections are recorded and output\n",
    "input_sets, intersections = Protocol.perform_Output()\n",
    "print(input_sets)\n",
    "print(intersections)\n",
    "print(\"\\nStep finished\\n\")"
   ]
  }
 ],
 "metadata": {
  "kernelspec": {
   "display_name": "Python 3",
   "language": "python",
   "name": "python3"
  },
  "language_info": {
   "codemirror_mode": {
    "name": "ipython",
    "version": 3
   },
   "file_extension": ".py",
   "mimetype": "text/x-python",
   "name": "python",
   "nbconvert_exporter": "python",
   "pygments_lexer": "ipython3",
   "version": "3.7.6-final"
  }
 },
 "nbformat": 4,
 "nbformat_minor": 4
}