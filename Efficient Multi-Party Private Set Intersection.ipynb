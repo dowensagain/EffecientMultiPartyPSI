{
 "cells": [
  {
   "cell_type": "code",
   "execution_count": null,
   "metadata": {},
   "outputs": [],
   "source": [
    "%load_ext autoreload\n",
    "%autoreload 2"
   ]
  },
  {
   "cell_type": "markdown",
   "metadata": {},
   "source": [
    "# Efficient Multi-Party Private Set Intersection\n",
    "\n",
    "### By Malia Kency and John Owens"
   ]
  },
  {
   "cell_type": "code",
   "execution_count": null,
   "metadata": {},
   "outputs": [],
   "source": [
    "import protocol\n",
    "import helpers\n",
    "import hashes as h\n",
    "import bloom_filter as bf\n",
    "import garbled_bloom_filter as gbf"
   ]
  },
  {
   "cell_type": "code",
   "execution_count": null,
   "metadata": {},
   "outputs": [],
   "source": [
    "# Parameters:\n",
    "NumPlayers = 3 \n",
    "PlayerInputSize = 20 # 10\n",
    "SecParam = 40\n",
    "bitLength = 128\n",
    "\n",
    "# These parameters are meant for illustration and fast execution\n",
    "# they are not considered secure or optimal\n",
    "Nmaxones = 80 # 40\n",
    "p = 0.3 # 0.25 # Fraction of messages to use for Cut and Choose\n",
    "a = 0.27 # 0.25 # Probability a 1 is chosen by a player\n",
    "disableChecks = False"
   ]
  },
  {
   "cell_type": "code",
   "execution_count": null,
   "metadata": {},
   "outputs": [],
   "source": [
    "# Initialize the protocol by calculating parameters,\n",
    "# creating the players, and generating random inputs\n",
    "# Note: at least 1 shared value is guaranteed\n",
    "Protocol = protocol.new# Initialize the protocol by calculating parameters,\n",
    "# creating the players, and generating random inputs\n",
    "# Note: at least 1 shared value is guaranteed\n",
    "Protocol = protocol.new(NumPlayers, Nmaxones, PlayerInputSize, SecParam, bitLength, p, a, disableChecks)\n",
    "print(\"\\nStarting protocol...\")\n",
    "print(\"k = {}\".format(Protocol.params.k))\n",
    "print(\"Not = {}\".format(Protocol.params.Not))\n",
    "print(\"gamma = {}\".format(Protocol.params.gamma))\n",
    "print(\"gammaStar = {} \\n\".format(Protocol.params.gammaStar))\n",
    "print(\"\\nSimulating players joining protocol. Total: {}\".format(Protocol.params.NumPlayers))\n",
    "print(\"\\nStep finished\\n\")\n"
   ]
  },
  {
   "cell_type": "code",
   "execution_count": null,
   "metadata": {},
   "outputs": [],
   "source": [
    "# Perform the random oblivious transfer simulation for P0...Pt\n",
    "print(\"\\nPerforming Random Oblivious Transfer simulation. {} transfers in total:\".format(Protocol.params.Not))\n",
    "Protocol.perform_RandomOT()\n",
    "Protocol.print_PlayerROTTable())\n",
    "print(\"\\nCounting each player's \\\"1s\\\":\")\n",
    "print(Protocol.print_PlayerMessageStats())\n",
    "print(\"\\nStep finished\\n\")"
   ]
  },
  {
   "cell_type": "code",
   "execution_count": null,
   "metadata": {},
   "outputs": [],
   "source": [
    "# Perform cut-and-choose simulation for P0...Pt\n",
    "print(\"Performing Cut and Choose simulation. Size of c: {}. Size of j: {}\".format(Protocol.params.C, Protocol.params.Not - Protocol.params.C))\n",
    "Protocol.perform_CutandChoose()\n",
    "print(\"\\nStep finished\\n\")"
   ]
  },
  {
   "cell_type": "code",
   "execution_count": null,
   "metadata": {},
   "outputs": [],
   "source": [
    "# Create bloom filters for P1...Pt\n",
    "print(\"Creating Bloom Filters. BF length: {}\".format(Protocol.params.Nbf))\n",
    "Protocol.create_BloomFilters()\n",
    "print(\"\\nStep finished\\n\")"
   ]
  },
  {
   "cell_type": "code",
   "execution_count": null,
   "metadata": {},
   "outputs": [],
   "source": [
    "# Create P1...Pt's injective functions\n",
    "print(\"Creating injective functions for every Pi:\")\n",
    "print(Protocol.create_InjectiveFunctions())\n",
    "print(\"\\nStep finished\\n\")"
   ]
  },
  {
   "cell_type": "code",
   "execution_count": null,
   "metadata": {},
   "outputs": [],
   "source": [
    "print(\"\\nCreating randomized GBF for every Pi\")\n",
    "# Instantiate P0's and P1's rGBF objects\n",
    "Protocol.create_RandomizedGBFs()\n",
    "print(\"\\nStep finished\\n\")"
   ]
  },
  {
   "cell_type": "code",
   "execution_count": null,
   "metadata": {},
   "outputs": [],
   "source": [
    "print(\"\\nCalculating final output\")\n",
    "# P0 performs XOR summation on its own j_messages[injective_func] where bit=1\n",
    "# P1 performs XOR summation on all P1...Pt's j_messages[injective_func] where bit = P1...Pt's choice\n",
    "Protocol.perform_XORsummation()"
   ]
  },
  {
   "cell_type": "code",
   "execution_count": null,
   "metadata": {},
   "outputs": [],
   "source": [
    "# P0 calculates summary values for all elements of its input set\n",
    "# P1 calculates summary values for all elements of its input set (Every P1...Pt input values)\n",
    "Protocol.perform_SummaryValues()"
   ]
  },
  {
   "cell_type": "code",
   "execution_count": null,
   "metadata": {},
   "outputs": [],
   "source": [
    "# P1 receives P0s summary values, compares them to its own\n",
    "# Intersections are recorded and output\n",
    "Protocol.perform_Output()# P1 receives P0s summary values, compares them to its own\n",
    "# Intersections are recorded and output\n",
    "print(Protocol.perform_Output())\n",
    "print(\"\\nStep finished\\n\")"
   ]
  }
 ],
 "metadata": {
  "kernelspec": {
   "display_name": "Python 3",
   "language": "python",
   "name": "python3"
  },
  "language_info": {
   "codemirror_mode": {
    "name": "ipython",
    "version": 3
   },
   "file_extension": ".py",
   "mimetype": "text/x-python",
   "name": "python",
   "nbconvert_exporter": "python",
   "pygments_lexer": "ipython3",
   "version": "3.7.6-final"
  }
 },
 "nbformat": 4,
 "nbformat_minor": 4
}