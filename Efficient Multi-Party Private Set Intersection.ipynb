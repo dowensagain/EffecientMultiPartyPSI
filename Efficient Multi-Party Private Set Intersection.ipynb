{
 "cells": [
  {
   "cell_type": "code",
   "execution_count": 4,
   "metadata": {},
   "outputs": [
    {
     "output_type": "stream",
     "name": "stdout",
     "text": "The autoreload extension is already loaded. To reload it, use:\n  %reload_ext autoreload\n"
    }
   ],
   "source": [
    "%load_ext autoreload\n",
    "%autoreload 2"
   ]
  },
  {
   "cell_type": "markdown",
   "metadata": {},
   "source": [
    "# Efficient Multi-Party Private Set Intersection\n",
    "\n",
    "### By Malia Kency and John Owens"
   ]
  },
  {
   "cell_type": "markdown",
   "metadata": {},
   "source": [
    "First, load imports"
   ]
  },
  {
   "cell_type": "code",
   "execution_count": 5,
   "metadata": {},
   "outputs": [],
   "source": [
    "import protocol\n",
    "import helpers\n",
    "import hashes as h\n",
    "import bloom_filter as bf\n",
    "import garbled_bloom_filter as gbf"
   ]
  },
  {
   "cell_type": "markdown",
   "metadata": {},
   "source": [
    "Set constant protocol parameters:\n",
    "\n",
    "   * $NumPlayers$ = Total number of players $P_i$\n",
    "   * $PlayerInputSize$ = Size of the player's input sets\n",
    "   * $N_{BF}$ = Length of the Bloom Filter\n",
    "   * $k$ = Number of hash functions to use\n",
    "   * $\\kappa = SecParam$ = Security paremeter. 40 in the paper's example\n",
    "   * $N_{Maxones}$ = Maximum number of ones a player is allowed after cut-and-choose\n",
    "   * $p$ = percentage of total messages to be used for cut-and-choose\n",
    "   * $a$ = sampling weight of 1s vs. 0s for every $P_i$\n",
    "\n",
    "Then calculate the rest:\n",
    "   * $N_{OT}$ = Total number of Random Oblivious Transfers\n",
    "   * $m_h^1$ = The number of 1's a player chooses\n",
    "   * $\\gamma = gamma$ = Verifies the correct relationship between $p, \\kappa, m_h^1$\n",
    "   * $\\gamma^* = gammaStar$ = Verifies the correct relationship between $p, \\kappa, N_{OT}$\n",
    "   * $\\varphi$\n",
    "   * $\\pi$\n",
    "   * $\\epsilon$\n",
    "   * $\\lambda$\n",
    "\n",
    "   "
   ]
  },
  {
   "cell_type": "code",
   "execution_count": 7,
   "metadata": {},
   "outputs": [
    {
     "output_type": "stream",
     "name": "stdout",
     "text": "k = 3\nNot = 84\n\nSimulating players joining protocol. Total: 3\nPlayer 0 created\nPlayer 1 created\nPlayer 2 created\n\nCreating Bloom Filter simulation. BF length: 21\n\nSimulating Random OT Stage. Performing 84 transfers in total:\n                                                   P0  \\\n0   (P1, Bit: 0, b'\\x01\\xedl\\xb9\\x0c!\\xbch\\xa0I\\xc...   \n1   (P1, Bit: 0, b'X-Xw\\xbch\\xc0kV\\x01\\r\\xa4\\xbbW\\...   \n2   (P1, Bit: 0, b'\\x02\\xcd\\xf9\\xa8\\x86\\xf2\\xdbD0\\...   \n3   (P1, Bit: 0, b'\\x88\\x9b4\\x80h7\\x0e\\xa3\\xbfL\\x1...   \n4   (P1, Bit: 0, b'\\xb45?\\x07\\xd3F;\\xf3q\\xc7\\xd8\\x...   \n..                                                ...   \n79  (P1, Bit: 0, b'\\x9a+\\x8b\\xc5\\xd0{\\x95=\\xd5,\\x8...   \n80  (P1, Bit: 0, b'\\x0b\\xd7\\xd4\\xb82\\xf6VW\\xd1\\xd6...   \n81  (P1, Bit: 0, b'\\x10\\x17F6\\xec\\xa5\\xb9\\xcb\\x1e\\...   \n82  (P1, Bit: 0, b'\\x10\\x04\\x98\\xf1.\\x92\\xe1\\x8ev\\...   \n83  (P1, Bit: 0, b'\\xb2m\\xd3\\x1e\\xc5\\xa4\\xaa\\xd9\\x...   \n\n                                                   P0  \\\n0   (P1, Bit: 1, b'M\\x7f\\xe5\\xd8\\xb9m\\x9c\\x11Vhl\\n...   \n1   (P1, Bit: 1, b\"7\\x1a\\x16F\\xf9\\xd5\\xb9\\xa2'j\\x8...   \n2   (P1, Bit: 1, b'br\\xc3w\\x8b\\xd7v\\xcex~`9\\xb8%\\x...   \n3   (P1, Bit: 1, b'\\x8c/\\xd5\\x0bb\\xaf(BR\\xf5{\\x86\\...   \n4   (P1, Bit: 1, b'\\x1cJ\\xe7L\\x9b\\x85f\\xf1p\\xda\\xc...   \n..                                                ...   \n79  (P1, Bit: 1, b'\\xc92R\\xb9\\x81\\x8bM\\xa7\\xf6\\x0b...   \n80  (P1, Bit: 1, b'6\\xb9M\\x84\\x8c\\xd1\\x16\\xf9TU\\xb...   \n81  (P1, Bit: 1, b'\\xbd\\xd1Q\\xe1h\\x156\\x8e\\x8a\\xaa...   \n82  (P1, Bit: 1, b'P\\xcf\\xe7n\\x1c\\x8f\\x9a_\\x11\\x02...   \n83  (P1, Bit: 1, b'\\xa4\\xb4)\\xbd\\xe3r\\xd1)\\xb9\\x83...   \n\n                                                   P0  \\\n0   (P2, Bit: 0, b'\\xe1\\xf1\\x12\\xed\\xb0g\\xef\\x10\\x...   \n1   (P2, Bit: 0, b'H\\xf7\\x90\\x9eB\\xc1\\xd7\\xb3\\xd3\\...   \n2   (P2, Bit: 0, b'&\\x1f\\xf3\\xb7\\xfa[\\xc6\\xbfD\\xfd...   \n3   (P2, Bit: 0, b'\\xc66\\xd7u\\xfa\\xa0T\\xba\\x0co\\xc...   \n4   (P2, Bit: 0, b'\\x0c\\xf0x|m\\x1f05\\xab\\xdef8\\xce...   \n..                                                ...   \n79  (P2, Bit: 0, b'\\x07\\x8f\\x96[\\xcb8%\\x8dZ\\xba\\x1...   \n80  (P2, Bit: 0, b'\\xfc\\xf0\\xffP\\x1aX\\x1d*\\x9f\\x85...   \n81  (P2, Bit: 0, b'6\\x8f]m\\x16\\x9a\\xe9\\x94\\xd9\\xd4...   \n82  (P2, Bit: 0, b'\\x90MQ\\x89TZ\\xa7\\x82\\xf1=\\xbdL\\...   \n83  (P2, Bit: 0, b'3\\x00\\xc4\\xd8\\xd6\\xfe\\xfa\\xf2\\x...   \n\n                                                   P0  \\\n0   (P2, Bit: 1, b'\\xb5c\\xea5\\xdd \\x83kA<\\x883\\x06...   \n1   (P2, Bit: 1, b'\\xb3+\\x93h\\x1c0\\xa7\\xaeMH\\x99\\x...   \n2   (P2, Bit: 1, b\"\\xcd,\\xa0\\x92q\\xe3=\\x10(Y@M\\r\\x...   \n3   (P2, Bit: 1, b\"W=\\xd3\\x01\\x96\\x81?\\xd0\\xaeW'\\x...   \n4   (P2, Bit: 1, b'\\xf5\\x82\\xd6\\x12\\xb7\\xfc\\xe73\\x...   \n..                                                ...   \n79  (P2, Bit: 1, b'\\xb3xh\\xf7Z*\\xc9%5\\xd5\\xa4\\xd0\\...   \n80  (P2, Bit: 1, b'5v@F\\xb9\\xcb#\\xa2\\x88\\xfbm\\xc0\\...   \n81  (P2, Bit: 1, b'D\\xa3^A\\x9d\\xf9\\xed\\xfa\\x00\\x90...   \n82  (P2, Bit: 1, b'\\xe1\\x7fWZ@ZH\\x19#\\xdd\\xfc\\xa3\\...   \n83  (P2, Bit: 1, b'2\\xb4\\x9cu\\xaaS\\xd9DY\\xa27\\xe5\\...   \n\n                                                   P1  \\\n0   (P1, Bit: 0, b'\\x01\\xedl\\xb9\\x0c!\\xbch\\xa0I\\xc...   \n1   (P1, Bit: 0, b'X-Xw\\xbch\\xc0kV\\x01\\r\\xa4\\xbbW\\...   \n2   (P1, Bit: 1, b'br\\xc3w\\x8b\\xd7v\\xcex~`9\\xb8%\\x...   \n3   (P1, Bit: 0, b'\\x88\\x9b4\\x80h7\\x0e\\xa3\\xbfL\\x1...   \n4   (P1, Bit: 0, b'\\xb45?\\x07\\xd3F;\\xf3q\\xc7\\xd8\\x...   \n..                                                ...   \n79  (P1, Bit: 0, b'\\x9a+\\x8b\\xc5\\xd0{\\x95=\\xd5,\\x8...   \n80  (P1, Bit: 0, b'\\x0b\\xd7\\xd4\\xb82\\xf6VW\\xd1\\xd6...   \n81  (P1, Bit: 0, b'\\x10\\x17F6\\xec\\xa5\\xb9\\xcb\\x1e\\...   \n82  (P1, Bit: 0, b'\\x10\\x04\\x98\\xf1.\\x92\\xe1\\x8ev\\...   \n83  (P1, Bit: 0, b'\\xb2m\\xd3\\x1e\\xc5\\xa4\\xaa\\xd9\\x...   \n\n                                                   P2  \n0   (P2, Bit: 0, b'\\xe1\\xf1\\x12\\xed\\xb0g\\xef\\x10\\x...  \n1   (P2, Bit: 0, b'H\\xf7\\x90\\x9eB\\xc1\\xd7\\xb3\\xd3\\...  \n2   (P2, Bit: 0, b'&\\x1f\\xf3\\xb7\\xfa[\\xc6\\xbfD\\xfd...  \n3   (P2, Bit: 0, b'\\xc66\\xd7u\\xfa\\xa0T\\xba\\x0co\\xc...  \n4   (P2, Bit: 0, b'\\x0c\\xf0x|m\\x1f05\\xab\\xdef8\\xce...  \n..                                                ...  \n79  (P2, Bit: 0, b'\\x07\\x8f\\x96[\\xcb8%\\x8dZ\\xba\\x1...  \n80  (P2, Bit: 0, b'\\xfc\\xf0\\xffP\\x1aX\\x1d*\\x9f\\x85...  \n81  (P2, Bit: 1, b'D\\xa3^A\\x9d\\xf9\\xed\\xfa\\x00\\x90...  \n82  (P2, Bit: 0, b'\\x90MQ\\x89TZ\\xa7\\x82\\xf1=\\xbdL\\...  \n83  (P2, Bit: 0, b'3\\x00\\xc4\\xd8\\xd6\\xfe\\xfa\\xf2\\x...  \n\n[84 rows x 6 columns]\n\nCounting each player's \"1s\":\nP0 has 168 ones. a * Not: 25.2\nP1 has 19 ones. a * Not: 25.2\nP2 has 20 ones. a * Not: 25.2\n"
    }
   ],
   "source": [
    "NumPlayers = 3 \n",
    "PlayerInputSize = 5\n",
    "Nbf = 21\n",
    "SecParam = 20\n",
    "Nmaxones = 10\n",
    "bitLength = 128\n",
    "p = 0.25\n",
    "a = 0.3\n",
    "\n",
    "Protocol = protocol.new(NumPlayers, Nmaxones, PlayerInputSize, p, a, SecParam, bitLength, Nbf)\n",
    "Protocol.perform_RandomOT()\n",
    "Protocol.get_AllPlayersOnes()\n",
    "Protocol.performCutandChoose()"
   ]
  },
  {
   "cell_type": "code",
   "execution_count": null,
   "metadata": {},
   "outputs": [],
   "source": []
  }
 ],
 "metadata": {
  "kernelspec": {
   "display_name": "Python 3",
   "language": "python",
   "name": "python3"
  },
  "language_info": {
   "file_extension": ".py",
   "mimetype": "text/x-python",
   "name": "python",
   "version": "3.7.6-final"
  }
 },
 "nbformat": 4,
 "nbformat_minor": 4
}